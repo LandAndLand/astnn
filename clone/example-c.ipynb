{
 "metadata": {
  "language_info": {
   "codemirror_mode": {
    "name": "ipython",
    "version": 3
   },
   "file_extension": ".py",
   "mimetype": "text/x-python",
   "name": "python",
   "nbconvert_exporter": "python",
   "pygments_lexer": "ipython3",
   "version": "3.8.6-final"
  },
  "orig_nbformat": 2,
  "kernelspec": {
   "name": "python3",
   "display_name": "Python 3"
  }
 },
 "nbformat": 4,
 "nbformat_minor": 2,
 "cells": [
  {
   "cell_type": "code",
   "execution_count": 85,
   "metadata": {},
   "outputs": [],
   "source": [
    "import pandas as pd\n",
    "\n",
    "from pathlib import Path\n",
    "from pycparser import c_parser\n",
    "from gensim.models.word2vec import Word2Vec\n",
    "\n",
    "sys.path.append('..')\n",
    "from tree import ASTNode, SingleNode \n",
    "from prepare_data import get_blocks"
   ]
  },
  {
   "cell_type": "code",
   "execution_count": 74,
   "metadata": {},
   "outputs": [
    {
     "output_type": "execute_result",
     "data": {
      "text/plain": [
       "868"
      ]
     },
     "metadata": {},
     "execution_count": 74
    }
   ],
   "source": [
    "# code_path  = Path('data/c/example.txt')\n",
    "# code_path.write_text(code)\n",
    "code_path  = Path('data/c/example.txt')\n",
    "code = code_path.read_text()\n",
    "print(code)"
   ]
  },
  {
   "source": [
    "### 解析代码段为ast"
   ],
   "cell_type": "markdown",
   "metadata": {}
  },
  {
   "cell_type": "code",
   "execution_count": 76,
   "metadata": {},
   "outputs": [
    {
     "output_type": "stream",
     "name": "stdout",
     "text": [
      "<pycparser.c_ast.FileAST object at 0x0000016122EFCD40>\n"
     ]
    }
   ],
   "source": [
    "parser = c_parser.CParser()\n",
    "\n",
    "ast_for_block = parser.parse(code)\n",
    "print(ast_for_block)"
   ]
  },
  {
   "cell_type": "code",
   "execution_count": 81,
   "metadata": {},
   "outputs": [],
   "source": [
    "root= 'data/'\n",
    "language = 'c'\n",
    "embedding_size = 128"
   ]
  },
  {
   "cell_type": "code",
   "execution_count": 87,
   "metadata": {},
   "outputs": [],
   "source": [
    "blocks = []\n",
    "get_blocks(ast_for_block,blocks)"
   ]
  },
  {
   "cell_type": "code",
   "execution_count": 88,
   "metadata": {},
   "outputs": [
    {
     "output_type": "stream",
     "name": "stdout",
     "text": [
      "FuncDef\n['Decl']\nCompound\n[]\nDecl\n['ArrayDecl']\nDecl\n['ArrayDecl']\nDecl\n['ArrayDecl']\nDecl\n['l1']\nDecl\n['i']\nDecl\n['j']\nDecl\n['n']\nDecl\n['flag']\nFuncCall\n['scanf', 'ExprList']\nFuncCall\n['scanf', 'ExprList']\nFuncCall\n['scanf', 'ExprList']\n=\n['l1', 'FuncCall']\nFor\n['=', '!=', '++']\nCompound\n[]\nIf\n['==']\nCompound\n[]\n=\n['flag', '1']\nFor\n['=', '<', '++']\nCompound\n[]\nIf\n['!=']\n=\n['flag', '0']\n=\n['flag', '1']\nEnd\n[]\nIf\n['==']\nCompound\n[]\nFor\n['=', '<', '++']\nFuncCall\n['printf', 'ExprList']\nFuncCall\n['printf', 'ExprList']\nFor\n['=', '!=', '++']\nFuncCall\n['printf', 'ExprList']\nReturn\n['0']\nEnd\n[]\nEnd\n[]\nEnd\n[]\nFuncCall\n['printf', 'ExprList']\nReturn\n['0']\nEnd\n[]\n"
     ]
    }
   ],
   "source": [
    "for b in blocks:\n",
    "    print(b.token)\n",
    "    children = b.children\n",
    "    child_list = [c.token for c in children]\n",
    "    print(child_list)"
   ]
  },
  {
   "cell_type": "code",
   "execution_count": 89,
   "metadata": {},
   "outputs": [],
   "source": [
    "from gensim.models.word2vec import Word2Vec\n",
    "embedding_size = 128\n",
    "root='data/'\n",
    "language = 'c'\n",
    "word2vec = Word2Vec.load(root+language+'/train/embedding_astnode_w2v_' + str(embedding_size)).wv\n",
    "vocab = word2vec.vocab\n",
    "max_token = word2vec.syn0.shape[0]"
   ]
  },
  {
   "cell_type": "code",
   "execution_count": 91,
   "metadata": {},
   "outputs": [],
   "source": [
    "def tree_to_index(node):\n",
    "    token = node.token\n",
    "    result = [vocab[token].index if token in vocab else max_token]\n",
    "    children = node.children\n",
    "    for child in children:\n",
    "        print(f'tree_to_index: a node  child: {child.token}')\n",
    "        result.append(tree_to_index(child))\n",
    "    return result"
   ]
  },
  {
   "cell_type": "code",
   "execution_count": 92,
   "metadata": {},
   "outputs": [
    {
     "output_type": "stream",
     "name": "stdout",
     "text": [
      "FuncDef\ntree_to_index: a node  child: Decl\ntree_to_index: a node  child: FuncDecl\ntree_to_index: a node  child: main\ntree_to_index: a node  child: int\n[30, [1, [29, [40, [2]]]]]\nCompound\n[6]\nDecl\ntree_to_index: a node  child: ArrayDecl\ntree_to_index: a node  child: s\ntree_to_index: a node  child: char\ntree_to_index: a node  child: 256\n[1, [21, [34, [50]], [138]]]\nDecl\ntree_to_index: a node  child: ArrayDecl\ntree_to_index: a node  child: a\ntree_to_index: a node  child: char\ntree_to_index: a node  child: 256\n[1, [21, [12, [50]], [138]]]\nDecl\ntree_to_index: a node  child: ArrayDecl\ntree_to_index: a node  child: b\ntree_to_index: a node  child: char\ntree_to_index: a node  child: 256\n[1, [21, [24, [50]], [138]]]\nDecl\ntree_to_index: a node  child: l1\ntree_to_index: a node  child: int\n[1, [163, [2]]]\nDecl\ntree_to_index: a node  child: i\ntree_to_index: a node  child: int\n[1, [0, [2]]]\nDecl\ntree_to_index: a node  child: j\ntree_to_index: a node  child: int\n[1, [8, [2]]]\nDecl\ntree_to_index: a node  child: n\ntree_to_index: a node  child: int\n[1, [13, [2]]]\nDecl\ntree_to_index: a node  child: flag\ntree_to_index: a node  child: int\n[1, [118, [2]]]\nFuncCall\ntree_to_index: a node  child: scanf\ntree_to_index: a node  child: ExprList\ntree_to_index: a node  child: \"%s\"\ntree_to_index: a node  child: s\n[9, [28], [10, [105], [34]]]\nFuncCall\ntree_to_index: a node  child: scanf\ntree_to_index: a node  child: ExprList\ntree_to_index: a node  child: \"%s\"\ntree_to_index: a node  child: a\n[9, [28], [10, [105], [12]]]\nFuncCall\ntree_to_index: a node  child: scanf\ntree_to_index: a node  child: ExprList\ntree_to_index: a node  child: \"%s\"\ntree_to_index: a node  child: b\n[9, [28], [10, [105], [24]]]\n=\ntree_to_index: a node  child: l1\ntree_to_index: a node  child: FuncCall\ntree_to_index: a node  child: strlen\ntree_to_index: a node  child: ExprList\ntree_to_index: a node  child: a\n[4, [163], [9, [72], [10, [12]]]]\nFor\ntree_to_index: a node  child: =\ntree_to_index: a node  child: i\ntree_to_index: a node  child: 0\ntree_to_index: a node  child: !=\ntree_to_index: a node  child: ArrayRef\ntree_to_index: a node  child: s\ntree_to_index: a node  child: i\ntree_to_index: a node  child: '\u0000'\ntree_to_index: a node  child: ++\ntree_to_index: a node  child: i\n[15, [4, [0], [5]], [36, [3, [34], [0]], [2015]], [11, [0]]]\nCompound\n[6]\nIf\ntree_to_index: a node  child: ==\ntree_to_index: a node  child: ArrayRef\ntree_to_index: a node  child: s\ntree_to_index: a node  child: i\ntree_to_index: a node  child: ArrayRef\ntree_to_index: a node  child: a\ntree_to_index: a node  child: 0\n[18, [22, [3, [34], [0]], [3, [12], [5]]]]\nCompound\n[6]\n=\ntree_to_index: a node  child: flag\ntree_to_index: a node  child: 1\n[4, [118], [14]]\nFor\ntree_to_index: a node  child: =\ntree_to_index: a node  child: j\ntree_to_index: a node  child: +\ntree_to_index: a node  child: i\ntree_to_index: a node  child: 1\ntree_to_index: a node  child: <\ntree_to_index: a node  child: j\ntree_to_index: a node  child: +\ntree_to_index: a node  child: i\ntree_to_index: a node  child: l1\ntree_to_index: a node  child: ++\ntree_to_index: a node  child: j\n[15, [4, [8], [16, [0], [14]]], [17, [8], [16, [0], [163]]], [11, [8]]]\nCompound\n[6]\nIf\ntree_to_index: a node  child: !=\ntree_to_index: a node  child: ArrayRef\ntree_to_index: a node  child: s\ntree_to_index: a node  child: j\ntree_to_index: a node  child: ArrayRef\ntree_to_index: a node  child: a\ntree_to_index: a node  child: -\ntree_to_index: a node  child: j\ntree_to_index: a node  child: i\n[18, [36, [3, [34], [8]], [3, [12], [23, [8], [0]]]]]\n=\ntree_to_index: a node  child: flag\ntree_to_index: a node  child: 0\n[4, [118], [5]]\n=\ntree_to_index: a node  child: flag\ntree_to_index: a node  child: 1\n[4, [118], [14]]\nEnd\n[7]\nIf\ntree_to_index: a node  child: ==\ntree_to_index: a node  child: flag\ntree_to_index: a node  child: 1\n[18, [22, [118], [14]]]\nCompound\n[6]\nFor\ntree_to_index: a node  child: =\ntree_to_index: a node  child: n\ntree_to_index: a node  child: 0\ntree_to_index: a node  child: <\ntree_to_index: a node  child: n\ntree_to_index: a node  child: i\ntree_to_index: a node  child: ++\ntree_to_index: a node  child: n\n[15, [4, [13], [5]], [17, [13], [0]], [11, [13]]]\nFuncCall\ntree_to_index: a node  child: printf\ntree_to_index: a node  child: ExprList\ntree_to_index: a node  child: \"%c\"\ntree_to_index: a node  child: ArrayRef\ntree_to_index: a node  child: s\ntree_to_index: a node  child: n\n[9, [27], [10, [160], [3, [34], [13]]]]\nFuncCall\ntree_to_index: a node  child: printf\ntree_to_index: a node  child: ExprList\ntree_to_index: a node  child: \"%s\"\ntree_to_index: a node  child: b\n[9, [27], [10, [105], [24]]]\nFor\ntree_to_index: a node  child: =\ntree_to_index: a node  child: n\ntree_to_index: a node  child: +\ntree_to_index: a node  child: i\ntree_to_index: a node  child: l1\ntree_to_index: a node  child: !=\ntree_to_index: a node  child: ArrayRef\ntree_to_index: a node  child: s\ntree_to_index: a node  child: n\ntree_to_index: a node  child: '\u0000'\ntree_to_index: a node  child: ++\ntree_to_index: a node  child: n\n[15, [4, [13], [16, [0], [163]]], [36, [3, [34], [13]], [2015]], [11, [13]]]\nFuncCall\ntree_to_index: a node  child: printf\ntree_to_index: a node  child: ExprList\ntree_to_index: a node  child: \"%c\"\ntree_to_index: a node  child: ArrayRef\ntree_to_index: a node  child: s\ntree_to_index: a node  child: n\n[9, [27], [10, [160], [3, [34], [13]]]]\nReturn\ntree_to_index: a node  child: 0\n[35, [5]]\nEnd\n[7]\nEnd\n[7]\nEnd\n[7]\nFuncCall\ntree_to_index: a node  child: printf\ntree_to_index: a node  child: ExprList\ntree_to_index: a node  child: \"%s\"\ntree_to_index: a node  child: s\n[9, [27], [10, [105], [34]]]\nReturn\ntree_to_index: a node  child: 0\n[35, [5]]\nEnd\n[7]\n[[30, [1, [29, [40, [2]]]]], [6], [1, [21, [34, [50]], [138]]], [1, [21, [12, [50]], [138]]], [1, [21, [24, [50]], [138]]], [1, [163, [2]]], [1, [0, [2]]], [1, [8, [2]]], [1, [13, [2]]], [1, [118, [2]]], [9, [28], [10, [105], [34]]], [9, [28], [10, [105], [12]]], [9, [28], [10, [105], [24]]], [4, [163], [9, [72], [10, [12]]]], [15, [4, [0], [5]], [36, [3, [34], [0]], [2015]], [11, [0]]], [6], [18, [22, [3, [34], [0]], [3, [12], [5]]]], [6], [4, [118], [14]], [15, [4, [8], [16, [0], [14]]], [17, [8], [16, [0], [163]]], [11, [8]]], [6], [18, [36, [3, [34], [8]], [3, [12], [23, [8], [0]]]]], [4, [118], [5]], [4, [118], [14]], [7], [18, [22, [118], [14]]], [6], [15, [4, [13], [5]], [17, [13], [0]], [11, [13]]], [9, [27], [10, [160], [3, [34], [13]]]], [9, [27], [10, [105], [24]]], [15, [4, [13], [16, [0], [163]]], [36, [3, [34], [13]], [2015]], [11, [13]]], [9, [27], [10, [160], [3, [34], [13]]]], [35, [5]], [7], [7], [7], [9, [27], [10, [105], [34]]], [35, [5]], [7]]\n"
     ]
    }
   ],
   "source": [
    "tree = []\n",
    "for b in blocks:\n",
    "    print(b.token)\n",
    "    btree = tree_to_index(b)\n",
    "    print(btree)\n",
    "    tree.append(btree)\n",
    "print(tree)"
   ]
  },
  {
   "cell_type": "code",
   "execution_count": 96,
   "metadata": {},
   "outputs": [
    {
     "output_type": "stream",
     "name": "stdout",
     "text": [
      "39\n[2, 1, 2, 2, 2, 2, 2, 2, 2, 2, 3, 3, 3, 3, 4, 1, 2, 1, 3, 4, 1, 2, 3, 3, 1, 2, 1, 4, 3, 3, 4, 3, 2, 1, 1, 1, 3, 2, 1]\n4\n"
     ]
    }
   ],
   "source": [
    "# 打印出某个ast有多少个语句树\n",
    "print(len(tree))\n",
    "# 找到每个语句树的长度\n",
    "\n",
    "lens = [len(item) for item in tree]\n",
    "\n",
    "max_len = max(lens)\n",
    "\n",
    "print(lens)\n",
    "print(max_len)"
   ]
  }
 ]
}