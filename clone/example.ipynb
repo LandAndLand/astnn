{
 "metadata": {
  "language_info": {
   "codemirror_mode": {
    "name": "ipython",
    "version": 3
   },
   "file_extension": ".py",
   "mimetype": "text/x-python",
   "name": "python",
   "nbconvert_exporter": "python",
   "pygments_lexer": "ipython3",
   "version": "3.8.6-final"
  },
  "orig_nbformat": 2,
  "kernelspec": {
   "name": "python386jvsc74a57bd0304dd9ef76ad2d6bf7237ef8f6fde70bef676e0aff923029a3f8742854b86f8f",
   "display_name": "Python 3.8.6 64-bit ('normal')"
  }
 },
 "nbformat": 4,
 "nbformat_minor": 2,
 "cells": [
  {
   "cell_type": "code",
   "execution_count": 100,
   "metadata": {},
   "outputs": [],
   "source": [
    "import pandas as pd\n",
    "\n",
    "from pathlib import Path\n",
    "from pycparser import c_parser,c_ast\n",
    "from gensim.models.word2vec import Word2Vec\n",
    "\n",
    "sys.path.append('..')\n",
    "from tree import ASTNode, SingleNode \n",
    "from prepare_data import get_blocks"
   ]
  },
  {
   "cell_type": "code",
   "execution_count": 101,
   "metadata": {},
   "outputs": [
    {
     "output_type": "stream",
     "name": "stdout",
     "text": [
      "int main()\n{\n    int i,n,sum;\n    scanf(\"%d\",n);\n    sum = 0;\n    for(i=0;i!=n;i++)\n    {\n        sum = sum + i;\n        if(sum % 2 == 0){\n            printf(\"sum is a  even number\");\n        }\n    }\n    printf(\"%d\",sum);\n    return 0;\n}\n\n"
     ]
    }
   ],
   "source": [
    "# code_path  = Path('data/c/example.txt')\n",
    "# code_path.write_text(code)\n",
    "code_path  = Path('data/c/example.txt')\n",
    "code = code_path.read_text()\n",
    "print(code)"
   ]
  },
  {
   "source": [
    "### 解析代码段为ast 并 visualize(serialize)"
   ],
   "cell_type": "markdown",
   "metadata": {}
  },
  {
   "cell_type": "code",
   "execution_count": 102,
   "metadata": {},
   "outputs": [
    {
     "output_type": "stream",
     "name": "stdout",
     "text": [
      "FileAST: \n  FuncDef: \n    Decl: main, [], [], []\n      FuncDecl: \n        TypeDecl: main, []\n          IdentifierType: ['int']\n    Compound: \n      Decl: i, [], [], []\n        TypeDecl: i, []\n          IdentifierType: ['int']\n      Decl: n, [], [], []\n        TypeDecl: n, []\n          IdentifierType: ['int']\n      Decl: sum, [], [], []\n        TypeDecl: sum, []\n          IdentifierType: ['int']\n      FuncCall: \n        ID: scanf\n        ExprList: \n          Constant: string, \"%d\"\n          ID: n\n      Assignment: =\n        ID: sum\n        Constant: int, 0\n      For: \n        Assignment: =\n          ID: i\n          Constant: int, 0\n        BinaryOp: !=\n          ID: i\n          ID: n\n        UnaryOp: p++\n          ID: i\n        Compound: \n          Assignment: =\n            ID: sum\n            BinaryOp: +\n              ID: sum\n              ID: i\n          If: \n            BinaryOp: ==\n              BinaryOp: %\n                ID: sum\n                Constant: int, 2\n              Constant: int, 0\n            Compound: \n              FuncCall: \n                ID: printf\n                ExprList: \n                  Constant: string, \"sum is a  even number\"\n      FuncCall: \n        ID: printf\n        ExprList: \n          Constant: string, \"%d\"\n          ID: sum\n      Return: \n        Constant: int, 0\n"
     ]
    }
   ],
   "source": [
    "parser = c_parser.CParser()\n",
    "\n",
    "ast = parser.parse(code)\n",
    "#print(ast)\n",
    "ast.show()\n"
   ]
  },
  {
   "cell_type": "code",
   "execution_count": 29,
   "metadata": {},
   "outputs": [
    {
     "output_type": "stream",
     "name": "stdout",
     "text": [
      "FileAST\nTrue\n1\n"
     ]
    }
   ],
   "source": [
    "# 打印ast对象的类名\n",
    "print(ast.__class__.__name__)\n",
    "print(isinstance(ast, c_ast.FileAST))\n",
    "# 根据pycparser/pycparser/c_ast.py文件中的FileAST类的定义，其孩子节点是tuple\n",
    "# 该tuple的第1个元素是'ext[i]', 第2个元素是ext[i]内容\n",
    "print(len(ast.children()))"
   ]
  },
  {
   "cell_type": "code",
   "execution_count": 42,
   "metadata": {},
   "outputs": [
    {
     "output_type": "stream",
     "name": "stdout",
     "text": [
      "ext[0]\nFuncDef(decl=Decl(name='main',\n                  quals=[\n                        ],\n                  storage=[\n                          ],\n                  funcspec=[\n                           ],\n                  type=FuncDecl(args=None,\n                                type=TypeDecl(declname='main',\n                                              quals=[\n                                                    ],\n                                              type=IdentifierType(names=['int'\n                                                                        ]\n                                                                  )\n                                              )\n                                ),\n                  init=None,\n                  bitsize=None\n                  ),\n        param_decls=None,\n        body=Compound(block_items=[Decl(name='i',\n                                        quals=[\n                                              ],\n                                        storage=[\n                                                ],\n                                        funcspec=[\n                                                 ],\n                                        type=TypeDecl(declname='i',\n                                                      quals=[\n                                                            ],\n                                                      type=IdentifierType(names=['int'\n                                                                                ]\n                                                                          )\n                                                      ),\n                                        init=None,\n                                        bitsize=None\n                                        ),\n                                   Decl(name='n',\n                                        quals=[\n                                              ],\n                                        storage=[\n                                                ],\n                                        funcspec=[\n                                                 ],\n                                        type=TypeDecl(declname='n',\n                                                      quals=[\n                                                            ],\n                                                      type=IdentifierType(names=['int'\n                                                                                ]\n                                                                          )\n                                                      ),\n                                        init=None,\n                                        bitsize=None\n                                        ),\n                                   Decl(name='sum',\n                                        quals=[\n                                              ],\n                                        storage=[\n                                                ],\n                                        funcspec=[\n                                                 ],\n                                        type=TypeDecl(declname='sum',\n                                                      quals=[\n                                                            ],\n                                                      type=IdentifierType(names=['int'\n                                                                                ]\n                                                                          )\n                                                      ),\n                                        init=None,\n                                        bitsize=None\n                                        ),\n                                   FuncCall(name=ID(name='scanf'\n                                                    ),\n                                            args=ExprList(exprs=[Constant(type='string',\n                                                                          value='\"%d\"'\n                                                                          ),\n                                                                 ID(name='n'\n                                                                    )\n                                                                ]\n                                                          )\n                                            ),\n                                   Assignment(op='=',\n                                              lvalue=ID(name='sum'\n                                                        ),\n                                              rvalue=Constant(type='int',\n                                                              value='0'\n                                                              )\n                                              ),\n                                   For(init=Assignment(op='=',\n                                                       lvalue=ID(name='i'\n                                                                 ),\n                                                       rvalue=Constant(type='int',\n                                                                       value='0'\n                                                                       )\n                                                       ),\n                                       cond=BinaryOp(op='!=',\n                                                     left=ID(name='i'\n                                                             ),\n                                                     right=ID(name='n'\n                                                              )\n                                                     ),\n                                       next=UnaryOp(op='p++',\n                                                    expr=ID(name='i'\n                                                            )\n                                                    ),\n                                       stmt=Compound(block_items=[Assignment(op='=',\n                                                                             lvalue=ID(name='sum'\n                                                                                       ),\n                                                                             rvalue=BinaryOp(op='+',\n                                                                                             left=ID(name='sum'\n                                                                                                     ),\n                                                                                             right=ID(name='i'\n                                                                                                      )\n                                                                                             )\n                                                                             ),\n                                                                  If(cond=BinaryOp(op='==',\n                                                                                   left=BinaryOp(op='%',\n                                                                                                 left=ID(name='sum'\n                                                                                                         ),\n                                                                                                 right=Constant(type='int',\n                                                                                                                value='2'\n                                                                                                                )\n                                                                                                 ),\n                                                                                   right=Constant(type='int',\n                                                                                                  value='0'\n                                                                                                  )\n                                                                                   ),\n                                                                     iftrue=Compound(block_items=[FuncCall(name=ID(name='printf'\n                                                                                                                   ),\n                                                                                                           args=ExprList(exprs=[Constant(type='string',\n                                                                                                                                         value='\"sum is a  even number\"'\n                                                                                                                                         )\n                                                                                                                               ]\n                                                                                                                         )\n                                                                                                           )\n                                                                                                 ]\n                                                                                     ),\n                                                                     iffalse=None\n                                                                     )\n                                                                 ]\n                                                     )\n                                       ),\n                                   FuncCall(name=ID(name='printf'\n                                                    ),\n                                            args=ExprList(exprs=[Constant(type='string',\n                                                                          value='\"%d\"'\n                                                                          ),\n                                                                 ID(name='sum'\n                                                                    )\n                                                                ]\n                                                          )\n                                            ),\n                                   Return(expr=Constant(type='int',\n                                                        value='0'\n                                                        )\n                                          )\n                                  ]\n                      )\n        )\n"
     ]
    }
   ],
   "source": [
    "node = ast.children()\n",
    "print(node[0][0])\n",
    "print(node[0][1])"
   ]
  },
  {
   "cell_type": "code",
   "execution_count": 123,
   "metadata": {},
   "outputs": [],
   "source": [
    "def traverse(node):\n",
    "    classname = node.__class__.__name__ \n",
    "    print(classname)\n",
    "    if isinstance(node, str) or len(node.children())==0:\n",
    "        print('leaf node:', node)\n",
    "    if node.attr_names:\n",
    "        print('attr:', node.attr_names)\n",
    "        if 'op' in node.attr_names:\n",
    "            print(f'op: {node.op}')\n",
    "    if classname == 'For':\n",
    "        print(len(node.children()))\n",
    "        print(node.children()[0][1])\n",
    "        print(node.children()[1][1])\n",
    "        print(node.children()[2][1])\n",
    "        print(node.children()[3][1])\n",
    "    for child in node.children():\n",
    "        #print(child[1])\n",
    "        traverse(child[1])"
   ]
  },
  {
   "cell_type": "code",
   "execution_count": 124,
   "metadata": {},
   "outputs": [
    {
     "output_type": "stream",
     "name": "stdout",
     "text": [
      "FileAST\nFuncDef\nDecl\nattr: ('name', 'quals', 'storage', 'funcspec')\nFuncDecl\nTypeDecl\nattr: ('declname', 'quals')\nIdentifierType\nleaf node: IdentifierType(names=['int'\n                     ]\n               )\nattr: ('names',)\nCompound\nDecl\nattr: ('name', 'quals', 'storage', 'funcspec')\nTypeDecl\nattr: ('declname', 'quals')\nIdentifierType\nleaf node: IdentifierType(names=['int'\n                     ]\n               )\nattr: ('names',)\nDecl\nattr: ('name', 'quals', 'storage', 'funcspec')\nTypeDecl\nattr: ('declname', 'quals')\nIdentifierType\nleaf node: IdentifierType(names=['int'\n                     ]\n               )\nattr: ('names',)\nDecl\nattr: ('name', 'quals', 'storage', 'funcspec')\nTypeDecl\nattr: ('declname', 'quals')\nIdentifierType\nleaf node: IdentifierType(names=['int'\n                     ]\n               )\nattr: ('names',)\nFuncCall\nID\nleaf node: ID(name='scanf'\n   )\nattr: ('name',)\nExprList\nConstant\nleaf node: Constant(type='string',\n         value='\"%d\"'\n         )\nattr: ('type', 'value')\nID\nleaf node: ID(name='n'\n   )\nattr: ('name',)\nAssignment\nattr: ('op',)\nop: =\nID\nleaf node: ID(name='sum'\n   )\nattr: ('name',)\nConstant\nleaf node: Constant(type='int',\n         value='0'\n         )\nattr: ('type', 'value')\nFor\nAssignment\nattr: ('op',)\nop: =\nID\nleaf node: ID(name='i'\n   )\nattr: ('name',)\nConstant\nleaf node: Constant(type='int',\n         value='0'\n         )\nattr: ('type', 'value')\nBinaryOp\nattr: ('op',)\nop: !=\nID\nleaf node: ID(name='i'\n   )\nattr: ('name',)\nID\nleaf node: ID(name='n'\n   )\nattr: ('name',)\nUnaryOp\nattr: ('op',)\nop: p++\nID\nleaf node: ID(name='i'\n   )\nattr: ('name',)\nCompound\nAssignment\nattr: ('op',)\nop: =\nID\nleaf node: ID(name='sum'\n   )\nattr: ('name',)\nBinaryOp\nattr: ('op',)\nop: +\nID\nleaf node: ID(name='sum'\n   )\nattr: ('name',)\nID\nleaf node: ID(name='i'\n   )\nattr: ('name',)\nIf\n2\nBinaryOp(op='==',\n         left=BinaryOp(op='%',\n                       left=ID(name='sum'\n                               ),\n                       right=Constant(type='int',\n                                      value='2'\n                                      )\n                       ),\n         right=Constant(type='int',\n                        value='0'\n                        )\n         )\nCompound(block_items=[FuncCall(name=ID(name='printf'\n                                       ),\n                               args=ExprList(exprs=[Constant(type='string',\n                                                             value='\"sum is a  even number\"'\n                                                             )\n                                                   ]\n                                             )\n                               )\n                     ]\n         )\nBinaryOp\nattr: ('op',)\nop: ==\nBinaryOp\nattr: ('op',)\nop: %\nID\nleaf node: ID(name='sum'\n   )\nattr: ('name',)\nConstant\nleaf node: Constant(type='int',\n         value='2'\n         )\nattr: ('type', 'value')\nConstant\nleaf node: Constant(type='int',\n         value='0'\n         )\nattr: ('type', 'value')\nCompound\nFuncCall\nID\nleaf node: ID(name='printf'\n   )\nattr: ('name',)\nExprList\nConstant\nleaf node: Constant(type='string',\n         value='\"sum is a  even number\"'\n         )\nattr: ('type', 'value')\nFuncCall\nID\nleaf node: ID(name='printf'\n   )\nattr: ('name',)\nExprList\nConstant\nleaf node: Constant(type='string',\n         value='\"%d\"'\n         )\nattr: ('type', 'value')\nID\nleaf node: ID(name='sum'\n   )\nattr: ('name',)\nReturn\nConstant\nleaf node: Constant(type='int',\n         value='0'\n         )\nattr: ('type', 'value')\n"
     ]
    }
   ],
   "source": [
    "traverse(ast)"
   ]
  },
  {
   "cell_type": "code",
   "execution_count": 76,
   "metadata": {},
   "outputs": [
    {
     "output_type": "stream",
     "name": "stdout",
     "text": [
      "FuncDef\n"
     ]
    },
    {
     "output_type": "execute_result",
     "data": {
      "text/plain": [
       "(('type',\n",
       "  FuncDecl(args=None,\n",
       "           type=TypeDecl(declname='main',\n",
       "                         quals=[\n",
       "                               ],\n",
       "                         type=IdentifierType(names=['int'\n",
       "                                                   ]\n",
       "                                             )\n",
       "                         )\n",
       "           )),)"
      ]
     },
     "metadata": {},
     "execution_count": 76
    }
   ],
   "source": [
    "node1 = node[0][1]\n",
    "print(node1.__class__.__name__)\n",
    "node1.children()[0][1].children()"
   ]
  },
  {
   "cell_type": "code",
   "execution_count": 17,
   "metadata": {},
   "outputs": [],
   "source": [
    "root= 'data/'\n",
    "language = 'c'\n",
    "embedding_size = 128"
   ]
  },
  {
   "cell_type": "code",
   "execution_count": 18,
   "metadata": {},
   "outputs": [],
   "source": [
    "blocks = []\n",
    "get_blocks(ast_for_block,blocks)"
   ]
  },
  {
   "cell_type": "code",
   "execution_count": 77,
   "metadata": {},
   "outputs": [
    {
     "output_type": "error",
     "ename": "NameError",
     "evalue": "name 'blocks' is not defined",
     "traceback": [
      "\u001b[1;31m---------------------------------------------------------------------------\u001b[0m",
      "\u001b[1;31mNameError\u001b[0m                                 Traceback (most recent call last)",
      "\u001b[1;32m<ipython-input-77-d2668cfbaab9>\u001b[0m in \u001b[0;36m<module>\u001b[1;34m\u001b[0m\n\u001b[1;32m----> 1\u001b[1;33m \u001b[1;32mfor\u001b[0m \u001b[0mb\u001b[0m \u001b[1;32min\u001b[0m \u001b[0mblocks\u001b[0m\u001b[1;33m:\u001b[0m\u001b[1;33m\u001b[0m\u001b[1;33m\u001b[0m\u001b[0m\n\u001b[0m\u001b[0;32m      2\u001b[0m     \u001b[0mprint\u001b[0m\u001b[1;33m(\u001b[0m\u001b[0mb\u001b[0m\u001b[1;33m.\u001b[0m\u001b[0mtoken\u001b[0m\u001b[1;33m)\u001b[0m\u001b[1;33m\u001b[0m\u001b[1;33m\u001b[0m\u001b[0m\n\u001b[0;32m      3\u001b[0m     \u001b[0mchildren\u001b[0m \u001b[1;33m=\u001b[0m \u001b[0mb\u001b[0m\u001b[1;33m.\u001b[0m\u001b[0mchildren\u001b[0m\u001b[1;33m\u001b[0m\u001b[1;33m\u001b[0m\u001b[0m\n\u001b[0;32m      4\u001b[0m     \u001b[0mchild_list\u001b[0m \u001b[1;33m=\u001b[0m \u001b[1;33m[\u001b[0m\u001b[0mc\u001b[0m\u001b[1;33m.\u001b[0m\u001b[0mtoken\u001b[0m \u001b[1;32mfor\u001b[0m \u001b[0mc\u001b[0m \u001b[1;32min\u001b[0m \u001b[0mchildren\u001b[0m\u001b[1;33m]\u001b[0m\u001b[1;33m\u001b[0m\u001b[1;33m\u001b[0m\u001b[0m\n\u001b[0;32m      5\u001b[0m     \u001b[0mprint\u001b[0m\u001b[1;33m(\u001b[0m\u001b[0mchild_list\u001b[0m\u001b[1;33m[\u001b[0m\u001b[1;36m1\u001b[0m\u001b[1;33m]\u001b[0m\u001b[1;33m)\u001b[0m\u001b[1;33m\u001b[0m\u001b[1;33m\u001b[0m\u001b[0m\n",
      "\u001b[1;31mNameError\u001b[0m: name 'blocks' is not defined"
     ]
    }
   ],
   "source": [
    "for b in blocks:\n",
    "    print(b.token)\n",
    "    children = b.children\n",
    "    child_list = [c.token for c in children]\n",
    "    print(child_list[1])"
   ]
  },
  {
   "cell_type": "code",
   "execution_count": 20,
   "metadata": {},
   "outputs": [
    {
     "output_type": "error",
     "ename": "FileNotFoundError",
     "evalue": "[Errno 2] No such file or directory: 'data/c/train/embedding_astnode_w2v_128'",
     "traceback": [
      "\u001b[1;31m---------------------------------------------------------------------------\u001b[0m",
      "\u001b[1;31mFileNotFoundError\u001b[0m                         Traceback (most recent call last)",
      "\u001b[1;32m<ipython-input-20-052f7b71a3c9>\u001b[0m in \u001b[0;36m<module>\u001b[1;34m\u001b[0m\n\u001b[0;32m      3\u001b[0m \u001b[0mroot\u001b[0m\u001b[1;33m=\u001b[0m\u001b[1;34m'data/'\u001b[0m\u001b[1;33m\u001b[0m\u001b[1;33m\u001b[0m\u001b[0m\n\u001b[0;32m      4\u001b[0m \u001b[0mlanguage\u001b[0m \u001b[1;33m=\u001b[0m \u001b[1;34m'c'\u001b[0m\u001b[1;33m\u001b[0m\u001b[1;33m\u001b[0m\u001b[0m\n\u001b[1;32m----> 5\u001b[1;33m \u001b[0mword2vec\u001b[0m \u001b[1;33m=\u001b[0m \u001b[0mWord2Vec\u001b[0m\u001b[1;33m.\u001b[0m\u001b[0mload\u001b[0m\u001b[1;33m(\u001b[0m\u001b[0mroot\u001b[0m\u001b[1;33m+\u001b[0m\u001b[0mlanguage\u001b[0m\u001b[1;33m+\u001b[0m\u001b[1;34m'/train/embedding_astnode_w2v_'\u001b[0m \u001b[1;33m+\u001b[0m \u001b[0mstr\u001b[0m\u001b[1;33m(\u001b[0m\u001b[0membedding_size\u001b[0m\u001b[1;33m)\u001b[0m\u001b[1;33m)\u001b[0m\u001b[1;33m.\u001b[0m\u001b[0mwv\u001b[0m\u001b[1;33m\u001b[0m\u001b[1;33m\u001b[0m\u001b[0m\n\u001b[0m\u001b[0;32m      6\u001b[0m \u001b[0mvocab\u001b[0m \u001b[1;33m=\u001b[0m \u001b[0mword2vec\u001b[0m\u001b[1;33m.\u001b[0m\u001b[0mvocab\u001b[0m\u001b[1;33m\u001b[0m\u001b[1;33m\u001b[0m\u001b[0m\n\u001b[0;32m      7\u001b[0m \u001b[0mmax_token\u001b[0m \u001b[1;33m=\u001b[0m \u001b[0mword2vec\u001b[0m\u001b[1;33m.\u001b[0m\u001b[0msyn0\u001b[0m\u001b[1;33m.\u001b[0m\u001b[0mshape\u001b[0m\u001b[1;33m[\u001b[0m\u001b[1;36m0\u001b[0m\u001b[1;33m]\u001b[0m\u001b[1;33m\u001b[0m\u001b[1;33m\u001b[0m\u001b[0m\n",
      "\u001b[1;32mD:\\envs\\normal\\lib\\site-packages\\gensim\\models\\word2vec.py\u001b[0m in \u001b[0;36mload\u001b[1;34m(cls, *args, **kwargs)\u001b[0m\n\u001b[0;32m   1139\u001b[0m         \"\"\"\n\u001b[0;32m   1140\u001b[0m         \u001b[1;32mtry\u001b[0m\u001b[1;33m:\u001b[0m\u001b[1;33m\u001b[0m\u001b[1;33m\u001b[0m\u001b[0m\n\u001b[1;32m-> 1141\u001b[1;33m             \u001b[0mmodel\u001b[0m \u001b[1;33m=\u001b[0m \u001b[0msuper\u001b[0m\u001b[1;33m(\u001b[0m\u001b[0mWord2Vec\u001b[0m\u001b[1;33m,\u001b[0m \u001b[0mcls\u001b[0m\u001b[1;33m)\u001b[0m\u001b[1;33m.\u001b[0m\u001b[0mload\u001b[0m\u001b[1;33m(\u001b[0m\u001b[1;33m*\u001b[0m\u001b[0margs\u001b[0m\u001b[1;33m,\u001b[0m \u001b[1;33m**\u001b[0m\u001b[0mkwargs\u001b[0m\u001b[1;33m)\u001b[0m\u001b[1;33m\u001b[0m\u001b[1;33m\u001b[0m\u001b[0m\n\u001b[0m\u001b[0;32m   1142\u001b[0m \u001b[1;33m\u001b[0m\u001b[0m\n\u001b[0;32m   1143\u001b[0m             \u001b[1;31m# for backward compatibility for `max_final_vocab` feature\u001b[0m\u001b[1;33m\u001b[0m\u001b[1;33m\u001b[0m\u001b[1;33m\u001b[0m\u001b[0m\n",
      "\u001b[1;32mD:\\envs\\normal\\lib\\site-packages\\gensim\\models\\base_any2vec.py\u001b[0m in \u001b[0;36mload\u001b[1;34m(cls, *args, **kwargs)\u001b[0m\n\u001b[0;32m   1228\u001b[0m \u001b[1;33m\u001b[0m\u001b[0m\n\u001b[0;32m   1229\u001b[0m         \"\"\"\n\u001b[1;32m-> 1230\u001b[1;33m         \u001b[0mmodel\u001b[0m \u001b[1;33m=\u001b[0m \u001b[0msuper\u001b[0m\u001b[1;33m(\u001b[0m\u001b[0mBaseWordEmbeddingsModel\u001b[0m\u001b[1;33m,\u001b[0m \u001b[0mcls\u001b[0m\u001b[1;33m)\u001b[0m\u001b[1;33m.\u001b[0m\u001b[0mload\u001b[0m\u001b[1;33m(\u001b[0m\u001b[1;33m*\u001b[0m\u001b[0margs\u001b[0m\u001b[1;33m,\u001b[0m \u001b[1;33m**\u001b[0m\u001b[0mkwargs\u001b[0m\u001b[1;33m)\u001b[0m\u001b[1;33m\u001b[0m\u001b[1;33m\u001b[0m\u001b[0m\n\u001b[0m\u001b[0;32m   1231\u001b[0m         \u001b[1;32mif\u001b[0m \u001b[1;32mnot\u001b[0m \u001b[0mhasattr\u001b[0m\u001b[1;33m(\u001b[0m\u001b[0mmodel\u001b[0m\u001b[1;33m,\u001b[0m \u001b[1;34m'ns_exponent'\u001b[0m\u001b[1;33m)\u001b[0m\u001b[1;33m:\u001b[0m\u001b[1;33m\u001b[0m\u001b[1;33m\u001b[0m\u001b[0m\n\u001b[0;32m   1232\u001b[0m             \u001b[0mmodel\u001b[0m\u001b[1;33m.\u001b[0m\u001b[0mns_exponent\u001b[0m \u001b[1;33m=\u001b[0m \u001b[1;36m0.75\u001b[0m\u001b[1;33m\u001b[0m\u001b[1;33m\u001b[0m\u001b[0m\n",
      "\u001b[1;32mD:\\envs\\normal\\lib\\site-packages\\gensim\\models\\base_any2vec.py\u001b[0m in \u001b[0;36mload\u001b[1;34m(cls, fname_or_handle, **kwargs)\u001b[0m\n\u001b[0;32m    600\u001b[0m \u001b[1;33m\u001b[0m\u001b[0m\n\u001b[0;32m    601\u001b[0m         \"\"\"\n\u001b[1;32m--> 602\u001b[1;33m         \u001b[1;32mreturn\u001b[0m \u001b[0msuper\u001b[0m\u001b[1;33m(\u001b[0m\u001b[0mBaseAny2VecModel\u001b[0m\u001b[1;33m,\u001b[0m \u001b[0mcls\u001b[0m\u001b[1;33m)\u001b[0m\u001b[1;33m.\u001b[0m\u001b[0mload\u001b[0m\u001b[1;33m(\u001b[0m\u001b[0mfname_or_handle\u001b[0m\u001b[1;33m,\u001b[0m \u001b[1;33m**\u001b[0m\u001b[0mkwargs\u001b[0m\u001b[1;33m)\u001b[0m\u001b[1;33m\u001b[0m\u001b[1;33m\u001b[0m\u001b[0m\n\u001b[0m\u001b[0;32m    603\u001b[0m \u001b[1;33m\u001b[0m\u001b[0m\n\u001b[0;32m    604\u001b[0m     \u001b[1;32mdef\u001b[0m \u001b[0msave\u001b[0m\u001b[1;33m(\u001b[0m\u001b[0mself\u001b[0m\u001b[1;33m,\u001b[0m \u001b[0mfname_or_handle\u001b[0m\u001b[1;33m,\u001b[0m \u001b[1;33m**\u001b[0m\u001b[0mkwargs\u001b[0m\u001b[1;33m)\u001b[0m\u001b[1;33m:\u001b[0m\u001b[1;33m\u001b[0m\u001b[1;33m\u001b[0m\u001b[0m\n",
      "\u001b[1;32mD:\\envs\\normal\\lib\\site-packages\\gensim\\utils.py\u001b[0m in \u001b[0;36mload\u001b[1;34m(cls, fname, mmap)\u001b[0m\n\u001b[0;32m    433\u001b[0m         \u001b[0mcompress\u001b[0m\u001b[1;33m,\u001b[0m \u001b[0msubname\u001b[0m \u001b[1;33m=\u001b[0m \u001b[0mSaveLoad\u001b[0m\u001b[1;33m.\u001b[0m\u001b[0m_adapt_by_suffix\u001b[0m\u001b[1;33m(\u001b[0m\u001b[0mfname\u001b[0m\u001b[1;33m)\u001b[0m\u001b[1;33m\u001b[0m\u001b[1;33m\u001b[0m\u001b[0m\n\u001b[0;32m    434\u001b[0m \u001b[1;33m\u001b[0m\u001b[0m\n\u001b[1;32m--> 435\u001b[1;33m         \u001b[0mobj\u001b[0m \u001b[1;33m=\u001b[0m \u001b[0munpickle\u001b[0m\u001b[1;33m(\u001b[0m\u001b[0mfname\u001b[0m\u001b[1;33m)\u001b[0m\u001b[1;33m\u001b[0m\u001b[1;33m\u001b[0m\u001b[0m\n\u001b[0m\u001b[0;32m    436\u001b[0m         \u001b[0mobj\u001b[0m\u001b[1;33m.\u001b[0m\u001b[0m_load_specials\u001b[0m\u001b[1;33m(\u001b[0m\u001b[0mfname\u001b[0m\u001b[1;33m,\u001b[0m \u001b[0mmmap\u001b[0m\u001b[1;33m,\u001b[0m \u001b[0mcompress\u001b[0m\u001b[1;33m,\u001b[0m \u001b[0msubname\u001b[0m\u001b[1;33m)\u001b[0m\u001b[1;33m\u001b[0m\u001b[1;33m\u001b[0m\u001b[0m\n\u001b[0;32m    437\u001b[0m         \u001b[0mlogger\u001b[0m\u001b[1;33m.\u001b[0m\u001b[0minfo\u001b[0m\u001b[1;33m(\u001b[0m\u001b[1;34m\"loaded %s\"\u001b[0m\u001b[1;33m,\u001b[0m \u001b[0mfname\u001b[0m\u001b[1;33m)\u001b[0m\u001b[1;33m\u001b[0m\u001b[1;33m\u001b[0m\u001b[0m\n",
      "\u001b[1;32mD:\\envs\\normal\\lib\\site-packages\\gensim\\utils.py\u001b[0m in \u001b[0;36munpickle\u001b[1;34m(fname)\u001b[0m\n\u001b[0;32m   1393\u001b[0m \u001b[1;33m\u001b[0m\u001b[0m\n\u001b[0;32m   1394\u001b[0m     \"\"\"\n\u001b[1;32m-> 1395\u001b[1;33m     \u001b[1;32mwith\u001b[0m \u001b[0mopen\u001b[0m\u001b[1;33m(\u001b[0m\u001b[0mfname\u001b[0m\u001b[1;33m,\u001b[0m \u001b[1;34m'rb'\u001b[0m\u001b[1;33m)\u001b[0m \u001b[1;32mas\u001b[0m \u001b[0mf\u001b[0m\u001b[1;33m:\u001b[0m\u001b[1;33m\u001b[0m\u001b[1;33m\u001b[0m\u001b[0m\n\u001b[0m\u001b[0;32m   1396\u001b[0m         \u001b[1;31m# Because of loading from S3 load can't be used (missing readline in smart_open)\u001b[0m\u001b[1;33m\u001b[0m\u001b[1;33m\u001b[0m\u001b[1;33m\u001b[0m\u001b[0m\n\u001b[0;32m   1397\u001b[0m         \u001b[1;32mif\u001b[0m \u001b[0msys\u001b[0m\u001b[1;33m.\u001b[0m\u001b[0mversion_info\u001b[0m \u001b[1;33m>\u001b[0m \u001b[1;33m(\u001b[0m\u001b[1;36m3\u001b[0m\u001b[1;33m,\u001b[0m \u001b[1;36m0\u001b[0m\u001b[1;33m)\u001b[0m\u001b[1;33m:\u001b[0m\u001b[1;33m\u001b[0m\u001b[1;33m\u001b[0m\u001b[0m\n",
      "\u001b[1;32mD:\\envs\\normal\\lib\\site-packages\\smart_open\\smart_open_lib.py\u001b[0m in \u001b[0;36mopen\u001b[1;34m(uri, mode, buffering, encoding, errors, newline, closefd, opener, ignore_ext, transport_params)\u001b[0m\n\u001b[0;32m    172\u001b[0m         \u001b[0mtransport_params\u001b[0m \u001b[1;33m=\u001b[0m \u001b[1;33m{\u001b[0m\u001b[1;33m}\u001b[0m\u001b[1;33m\u001b[0m\u001b[1;33m\u001b[0m\u001b[0m\n\u001b[0;32m    173\u001b[0m \u001b[1;33m\u001b[0m\u001b[0m\n\u001b[1;32m--> 174\u001b[1;33m     fobj = _shortcut_open(\n\u001b[0m\u001b[0;32m    175\u001b[0m         \u001b[0muri\u001b[0m\u001b[1;33m,\u001b[0m\u001b[1;33m\u001b[0m\u001b[1;33m\u001b[0m\u001b[0m\n\u001b[0;32m    176\u001b[0m         \u001b[0mmode\u001b[0m\u001b[1;33m,\u001b[0m\u001b[1;33m\u001b[0m\u001b[1;33m\u001b[0m\u001b[0m\n",
      "\u001b[1;32mD:\\envs\\normal\\lib\\site-packages\\smart_open\\smart_open_lib.py\u001b[0m in \u001b[0;36m_shortcut_open\u001b[1;34m(uri, mode, ignore_ext, buffering, encoding, errors, newline)\u001b[0m\n\u001b[0;32m    344\u001b[0m         \u001b[0mopen_kwargs\u001b[0m\u001b[1;33m[\u001b[0m\u001b[1;34m'errors'\u001b[0m\u001b[1;33m]\u001b[0m \u001b[1;33m=\u001b[0m \u001b[0merrors\u001b[0m\u001b[1;33m\u001b[0m\u001b[1;33m\u001b[0m\u001b[0m\n\u001b[0;32m    345\u001b[0m \u001b[1;33m\u001b[0m\u001b[0m\n\u001b[1;32m--> 346\u001b[1;33m     \u001b[1;32mreturn\u001b[0m \u001b[0m_builtin_open\u001b[0m\u001b[1;33m(\u001b[0m\u001b[0mlocal_path\u001b[0m\u001b[1;33m,\u001b[0m \u001b[0mmode\u001b[0m\u001b[1;33m,\u001b[0m \u001b[0mbuffering\u001b[0m\u001b[1;33m=\u001b[0m\u001b[0mbuffering\u001b[0m\u001b[1;33m,\u001b[0m \u001b[1;33m**\u001b[0m\u001b[0mopen_kwargs\u001b[0m\u001b[1;33m)\u001b[0m\u001b[1;33m\u001b[0m\u001b[1;33m\u001b[0m\u001b[0m\n\u001b[0m\u001b[0;32m    347\u001b[0m \u001b[1;33m\u001b[0m\u001b[0m\n\u001b[0;32m    348\u001b[0m \u001b[1;33m\u001b[0m\u001b[0m\n",
      "\u001b[1;31mFileNotFoundError\u001b[0m: [Errno 2] No such file or directory: 'data/c/train/embedding_astnode_w2v_128'"
     ]
    }
   ],
   "source": [
    "'''\n",
    "from gensim.models.word2vec import Word2Vec\n",
    "embedding_size = 128\n",
    "root='data/'\n",
    "language = 'c'\n",
    "word2vec = Word2Vec.load(root+language+'/train/embedding_astnode_w2v_' + str(embedding_size)).wv\n",
    "vocab = word2vec.vocab\n",
    "max_token = word2vec.syn0.shape[0]\n",
    "'''"
   ]
  },
  {
   "cell_type": "code",
   "execution_count": 91,
   "metadata": {},
   "outputs": [],
   "source": [
    "def tree_to_index(node):\n",
    "    token = node.token\n",
    "    result = [vocab[token].index if token in vocab else max_token]\n",
    "    children = node.children\n",
    "    for child in children:\n",
    "        print(f'tree_to_index: a node  child: {child.token}')\n",
    "        result.append(tree_to_index(child))\n",
    "    return result"
   ]
  },
  {
   "cell_type": "code",
   "execution_count": 13,
   "metadata": {},
   "outputs": [
    {
     "output_type": "stream",
     "name": "stdout",
     "text": [
      "FuncDef\n"
     ]
    },
    {
     "output_type": "error",
     "ename": "NameError",
     "evalue": "name 'tree_to_index' is not defined",
     "traceback": [
      "\u001b[1;31m---------------------------------------------------------------------------\u001b[0m",
      "\u001b[1;31mNameError\u001b[0m                                 Traceback (most recent call last)",
      "\u001b[1;32m<ipython-input-13-2ba294110f9e>\u001b[0m in \u001b[0;36m<module>\u001b[1;34m\u001b[0m\n\u001b[0;32m      2\u001b[0m \u001b[1;32mfor\u001b[0m \u001b[0mb\u001b[0m \u001b[1;32min\u001b[0m \u001b[0mblocks\u001b[0m\u001b[1;33m:\u001b[0m\u001b[1;33m\u001b[0m\u001b[1;33m\u001b[0m\u001b[0m\n\u001b[0;32m      3\u001b[0m     \u001b[0mprint\u001b[0m\u001b[1;33m(\u001b[0m\u001b[0mb\u001b[0m\u001b[1;33m.\u001b[0m\u001b[0mtoken\u001b[0m\u001b[1;33m)\u001b[0m\u001b[1;33m\u001b[0m\u001b[1;33m\u001b[0m\u001b[0m\n\u001b[1;32m----> 4\u001b[1;33m     \u001b[0mbtree\u001b[0m \u001b[1;33m=\u001b[0m \u001b[0mtree_to_index\u001b[0m\u001b[1;33m(\u001b[0m\u001b[0mb\u001b[0m\u001b[1;33m)\u001b[0m\u001b[1;33m\u001b[0m\u001b[1;33m\u001b[0m\u001b[0m\n\u001b[0m\u001b[0;32m      5\u001b[0m     \u001b[0mprint\u001b[0m\u001b[1;33m(\u001b[0m\u001b[0mbtree\u001b[0m\u001b[1;33m)\u001b[0m\u001b[1;33m\u001b[0m\u001b[1;33m\u001b[0m\u001b[0m\n\u001b[0;32m      6\u001b[0m     \u001b[0mtree\u001b[0m\u001b[1;33m.\u001b[0m\u001b[0mappend\u001b[0m\u001b[1;33m(\u001b[0m\u001b[0mbtree\u001b[0m\u001b[1;33m)\u001b[0m\u001b[1;33m\u001b[0m\u001b[1;33m\u001b[0m\u001b[0m\n",
      "\u001b[1;31mNameError\u001b[0m: name 'tree_to_index' is not defined"
     ]
    }
   ],
   "source": [
    "tree = []\n",
    "for b in blocks:\n",
    "    print(b.token)\n",
    "    btree = tree_to_index(b)\n",
    "    print(btree)\n",
    "    tree.append(btree)\n",
    "print(tree)"
   ]
  },
  {
   "cell_type": "code",
   "execution_count": 96,
   "metadata": {},
   "outputs": [
    {
     "output_type": "stream",
     "name": "stdout",
     "text": [
      "39\n[2, 1, 2, 2, 2, 2, 2, 2, 2, 2, 3, 3, 3, 3, 4, 1, 2, 1, 3, 4, 1, 2, 3, 3, 1, 2, 1, 4, 3, 3, 4, 3, 2, 1, 1, 1, 3, 2, 1]\n4\n"
     ]
    }
   ],
   "source": [
    "# 打印出某个ast有多少个语句树\n",
    "print(len(tree))\n",
    "# 找到每个语句树的长度\n",
    "\n",
    "lens = [len(item) for item in tree]\n",
    "\n",
    "max_len = max(lens)\n",
    "\n",
    "print(lens)\n",
    "print(max_len)"
   ]
  },
  {
   "cell_type": "code",
   "execution_count": null,
   "metadata": {},
   "outputs": [],
   "source": []
  }
 ]
}