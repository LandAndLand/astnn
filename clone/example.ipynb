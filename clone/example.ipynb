{
 "metadata": {
  "language_info": {
   "codemirror_mode": {
    "name": "ipython",
    "version": 3
   },
   "file_extension": ".py",
   "mimetype": "text/x-python",
   "name": "python",
   "nbconvert_exporter": "python",
   "pygments_lexer": "ipython3",
   "version": "3.8.6-final"
  },
  "orig_nbformat": 2,
  "kernelspec": {
   "name": "Python 3.8.6 64-bit ('py386tf2')",
   "display_name": "Python 3.8.6 64-bit ('py386tf2')",
   "metadata": {
    "interpreter": {
     "hash": "23f4c1ece4150741bc31d78c6cd4480c6c552bb99c28aec92345e24b30792daa"
    }
   }
  }
 },
 "nbformat": 4,
 "nbformat_minor": 2,
 "cells": [
  {
   "cell_type": "code",
   "execution_count": null,
   "metadata": {},
   "outputs": [],
   "source": [
    "from pycparser import c_parser\n",
    "\n",
    "import pandas as pd\n",
    "\n",
    "parser = c_parser.CParser()\n",
    "\n",
    "root = 'data/'\n",
    "language = 'c/'\n",
    "source = pd.read_pickle(root+language+'programs.pkl')\n",
    "#print(source)\n",
    "# label是指该段源代码来自于哪个类别吗？\n",
    "source.columns = ['id', 'code', 'label']\n",
    "print('parse starting')\n",
    "source['code'] = source['code'].apply(parser.parse)\n",
    "source.to_pickle(root+'c/ast.pkl')\n",
    "print('parse ending')\n",
    "#source_code = source['code'].iloc[0]\n",
    "#print(type(source_code))\n",
    "#ast= parser.parse(source_code)\n",
    "#ast.show()"
   ]
  },
  {
   "cell_type": "code",
   "execution_count": 12,
   "metadata": {},
   "outputs": [],
   "source": [
    "import javalang\n",
    "def parse_program(func):\n",
    "    tokens = javalang.tokenizer.tokenize(func)\n",
    "    #print(f'tokens化得到的序列:{tokens}')\n",
    "    parser = javalang.parser.Parser(tokens)\n",
    "    tree = parser.parse_member_declaration()\n",
    "    return tree\n",
    "\n"
   ]
  },
  {
   "cell_type": "code",
   "execution_count": null,
   "metadata": {},
   "outputs": [],
   "source": [
    "\"\"\" func = '''public static int[] bubbleSort(int... a) {\n",
    "        boolean swapped;\n",
    "        do {\n",
    "            swapped = false;\n",
    "            for (int i = 0; i < a.length - 1; i++) {\n",
    "                if (a[i] > a[i + 1]) {\n",
    "                    int tmp = a[i];\n",
    "                    a[i] = a[i + 1];\n",
    "                    a[i + 1] = tmp;\n",
    "                    swapped = true;\n",
    "                }\n",
    "            }\n",
    "        } while (swapped);\n",
    "        return a;\n",
    "    }\n",
    "\n",
    "'''\n",
    "ast = parse_program(func) \"\"\"\n",
    "# for path, node in ast:\n",
    "#   print(path, node)"
   ]
  },
  {
   "cell_type": "code",
   "execution_count": 13,
   "metadata": {},
   "outputs": [
    {
     "output_type": "stream",
     "name": "stdout",
     "text": [
      "parse starting\n",
      "parse ending\n"
     ]
    }
   ],
   "source": [
    "from pycparser import c_parser\n",
    "\n",
    "import pandas as pd\n",
    "\n",
    "root = 'data/'\n",
    "language = 'java/'\n",
    "source_java = pd.read_csv(root+language+'bcb_funcs_all.tsv',\n",
    "                            sep='\\t', \n",
    "                            header=None, \n",
    "                            encoding='utf-8')\n",
    "source_java.columns = ['id', 'code']\n",
    "print('parse starting')\n",
    "source_java['code'] = source_java['code'].apply(parse_program)\n",
    "source_java.to_pickle('data/java/ast.pkl')\n",
    "print('parse ending')\n",
    "#java = source_java['code'].iloc[2]\n",
    "#print(java)\n",
    "#source['code'] = source['code'].apply(parse_program)\n",
    "\n"
   ]
  },
  {
   "cell_type": "code",
   "execution_count": 14,
   "metadata": {},
   "outputs": [],
   "source": [
    "from pathlib import Path\n",
    "\n",
    "def split_data(root = 'data/', ratio = '3:1:1', language = 'c'):\n",
    "  if language is 'c':\n",
    "    filename = 'oj_clone_ids.pkl'\n",
    "  else:\n",
    "    filename = 'bcb_pair_ids.pkl'\n",
    "  path = root + language + '/' + filename\n",
    "  data = pd.read_pickle(path)\n",
    "  data_num = len(data)\n",
    "  ratios = [int(r) for r in ratio.split(':')]\n",
    "  train_split = int(ratios[0]/sum(ratios)*data_num)\n",
    "  val_split = train_split + int(ratios[1]/sum(ratios)*data_num)\n",
    "  \n",
    "  #对要分割的数据进行随机打散\n",
    "  print('starting split')\n",
    "  data = data.sample(frac=1, random_state=666)\n",
    "\n",
    "  train = data.iloc[:train_split]\n",
    "  dev = data.iloc[train_split:val_split]\n",
    "  test = data.iloc[val_split:]\n",
    "\n",
    "  def check_or_create(path):\n",
    "    if not os.path.exists(path):\n",
    "      os.mkdir(path) \n",
    "  train_path = root+language+'/train/'\n",
    "  check_or_create(train_path)\n",
    "  assert Path(train_path).is_dir()\n",
    "  train_file_path = train_path + 'train.pkl'\n",
    "  train.to_pickle(train_file_path)\n",
    "\n",
    "  dev_path = root+language+'/dev/'\n",
    "  check_or_create(dev_path)\n",
    "  dev_file_path = dev_path + 'dev.pkl'\n",
    "  train.to_pickle(dev_file_path)\n",
    "\n",
    "  test_path = root+language+'/test/'\n",
    "  check_or_create(test_path)\n",
    "  test_file_path = test_path + 'test.pkl'\n",
    "  test.to_pickle(test_file_path)\n",
    "  print('end split')\n",
    "\n"
   ]
  },
  {
   "cell_type": "code",
   "execution_count": 15,
   "metadata": {},
   "outputs": [
    {
     "output_type": "stream",
     "name": "stdout",
     "text": [
      "starting split\n",
      "end split\n",
      "starting split\n",
      "end split\n"
     ]
    }
   ],
   "source": [
    "split_data(language='c')\n",
    "split_data(language = 'java')"
   ]
  },
  {
   "cell_type": "code",
   "execution_count": 23,
   "metadata": {},
   "outputs": [],
   "source": [
    "language = 'c'\n",
    "train_file_path = 'clone/data/'+language+'/train/train.pkl'\n",
    "dev_file_path = 'clone/data/'+language+'/dev/train.pkl'\n",
    "test_file_path = 'clone/data/'+language+'/test/train.pkl'"
   ]
  },
  {
   "cell_type": "code",
   "execution_count": 2,
   "metadata": {},
   "outputs": [],
   "source": [
    "import pandas as pd\n",
    "def read_ast(language):\n",
    "  root = 'data/'\n",
    "  source = pd.read_pickle(root+language+'/ast.pkl')\n",
    "  print(len(source['code']))\n",
    "  return source\n",
    "  # ast = source['code'].iloc[1]\n",
    "  # ast.show()"
   ]
  },
  {
   "cell_type": "code",
   "execution_count": 25,
   "metadata": {},
   "outputs": [],
   "source": [
    "#source = read_ast('c')\n",
    "source_c_ast_DF = read_ast('c')\n",
    "#source_java_ast_DF = read_ast('java')"
   ]
  },
  {
   "cell_type": "code",
   "execution_count": 13,
   "metadata": {},
   "outputs": [],
   "source": [
    "root = 'data/'\n",
    "language = 'c'\n",
    "train_file_path = root + language + '/train/train.pkl'\n",
    "pairs = pd.read_pickle(train_file_path)\n",
    "# 找到训练集所包含的所有的source code id\n",
    "train_ids = pairs['id1'].append(pairs['id2']).unique()"
   ]
  },
  {
   "cell_type": "code",
   "execution_count": 8,
   "metadata": {},
   "outputs": [
    {
     "output_type": "execute_result",
     "data": {
      "text/plain": [
       "array([9566, 8200, 3897, ..., 9254, 3971, 39727], dtype=object)"
      ]
     },
     "metadata": {},
     "execution_count": 8
    }
   ],
   "source": [
    "train_ids"
   ]
  },
  {
   "cell_type": "code",
   "execution_count": 11,
   "metadata": {},
   "outputs": [],
   "source": [
    "# func函数每次处理ast的当前遍历到的结点。即剩余子树的根节点\n",
    "def func(root,sequence):\n",
    "  #print(f'c: partial ast root: {root.__class__.__name__}')\n",
    "  current = SingleNode(root)\n",
    "  sequence.append(current.get_token())\n",
    "  #print(f'sequence: {sequence}')\n",
    "  for _, child in root.children():\n",
    "      func(child, sequence)\n",
    "  if current.get_token().lower() == 'compound':\n",
    "      sequence.append('End')\n",
    "\n"
   ]
  },
  {
   "cell_type": "code",
   "execution_count": 13,
   "metadata": {},
   "outputs": [],
   "source": [
    "def trans_to_sequences(ast):\n",
    "    sequence = []\n",
    "    func(ast, sequence)\n",
    "    return sequence"
   ]
  },
  {
   "cell_type": "code",
   "execution_count": 13,
   "metadata": {
    "tags": []
   },
   "outputs": [
    {
     "output_type": "stream",
     "name": "stdout",
     "text": [
      "id\n9566     [FileAST, Decl, ArrayDecl, a, int, 200, Decl, ...\n8200     [FileAST, FuncDef, Decl, FuncDecl, main, int, ...\n3897     [FileAST, FuncDef, Decl, FuncDecl, main, int, ...\n12786    [FileAST, FuncDef, Decl, FuncDecl, main, int, ...\n34502    [FileAST, Decl, ArrayDecl, ArrayDecl, map, int...\n                               ...                        \n29794    [FileAST, Decl, a, int, 0, Decl, i, int, 0, De...\n49967    [FileAST, FuncDef, Decl, FuncDecl, main, int, ...\n9254     [FileAST, FuncDef, Decl, FuncDecl, main, int, ...\n3971     [FileAST, FuncDef, Decl, FuncDecl, main, int, ...\n39727    [FileAST, FuncDef, Decl, FuncDecl, main, int, ...\nName: code, Length: 7498, dtype: object\n"
     ]
    }
   ],
   "source": [
    "# 设置ast_DFs的索引为id\n",
    "ast_DFs = source_c_ast_DF.set_index('id',drop=False).loc[train_ids]\n",
    "#print(ast_DFs)\n",
    "\n",
    "asts = ast_DFs['code']\n",
    "sequence = []\n",
    "corpus = asts.apply(trans_to_sequences)\n",
    "print(corpus)"
   ]
  },
  {
   "cell_type": "code",
   "execution_count": 21,
   "metadata": {},
   "outputs": [],
   "source": [
    "#print(type(corpus)) # Series\n",
    "str_corpus = [' '.join(c) for c in corpus]\n",
    "ast_seq = source_c_ast_DF.copy(False)\n",
    "ast_seq['code'] = pd.Series(str_corpus)\n",
    "ast_seq.to_pickle(root+language+'/train/ast_seq.pkl')"
   ]
  },
  {
   "cell_type": "code",
   "execution_count": 24,
   "metadata": {},
   "outputs": [],
   "source": [
    "# 使用word2vec从训练集中训练一个词典\n",
    "from gensim.models.word2vec import Word2Vec\n",
    "embedding_size = 128\n",
    "w2v = Word2Vec(corpus, size=embedding_size, workers=16, sg=1, max_final_vocab=3000)\n",
    "w2v.save(root+language+'/train/embedding_astnode_w2v_' + str(embedding_size))"
   ]
  },
  {
   "cell_type": "code",
   "execution_count": 10,
   "metadata": {},
   "outputs": [],
   "source": [
    "\n",
    "class ASTNode(object):\n",
    "    def __init__(self, node):\n",
    "        self.node = node\n",
    "        # self.vocab = word_map\n",
    "        self.is_str = isinstance(self.node, str)\n",
    "        self.token = self.get_token()\n",
    "        # self.index = self.token_to_index(self.token)\n",
    "        self.children = self.add_children()\n",
    "\n",
    "    '''\n",
    "    判断为叶子节点：\n",
    "    node类型为str 或者孩子结点数为0\n",
    "    '''\n",
    "    def is_leaf(self):\n",
    "        if self.is_str:\n",
    "            return True\n",
    "        return len(self.node.children()) == 0\n",
    "\n",
    "    def get_token(self, lower=True):\n",
    "        if self.is_str:\n",
    "            return self.node\n",
    "        name = self.node.__class__.__name__\n",
    "        token = name\n",
    "        is_name = False\n",
    "        if self.is_leaf():\n",
    "            attr_names = self.node.attr_names\n",
    "            if attr_names:\n",
    "                if 'names' in attr_names:\n",
    "                    token = self.node.names[0]\n",
    "                elif 'name' in attr_names:\n",
    "                    token = self.node.name\n",
    "                    is_name = True\n",
    "                else:\n",
    "                    token = self.node.value\n",
    "            else:\n",
    "                token = name\n",
    "        else:\n",
    "            # 如果是'TypeDecl'非叶子节点, 直接返回declname\n",
    "            if name == 'TypeDecl':\n",
    "                token = self.node.declname\n",
    "            if self.node.attr_names:\n",
    "            # 如果是其他有属性的非叶子节点(一般指操作符)\n",
    "                attr_names = self.node.attr_names\n",
    "                if 'op' in attr_names:\n",
    "                    if self.node.op[0] == 'p':\n",
    "                        token = self.node.op[1:]\n",
    "                    else:\n",
    "                        token = self.node.op\n",
    "        if token is None:\n",
    "            token = name\n",
    "        if lower and is_name:\n",
    "            token = token.lower()\n",
    "        return token\n",
    "\n",
    "    # def token_to_index(self, token):\n",
    "    #     self.index = self.vocab[token].index if token in self.vocab else MAX_TOKENS\n",
    "    #     return self.index\n",
    "\n",
    "    # def get_index(self):\n",
    "    #     return self.index\n",
    "\n",
    "    # 给你一个node, 根据node的类型返回node的孩子结点list\n",
    "    def add_children(self):\n",
    "        if self.is_str:\n",
    "            # leaf节点，没有child\n",
    "            return []\n",
    "        #print(f\"当前结点的token : {self.token}\")\n",
    "        children = self.node.children()\n",
    "        #print(f\"当前结点的children : {children}\")\n",
    "        \n",
    "        # if 后面的结点类型只有一个孩子结点\n",
    "        if self.token in ['FuncDef', 'If', 'While', 'DoWhile','Switch']:\n",
    "            #print(f'chilsren: {children[0][1]}')\n",
    "            return [ASTNode(children[0][1])]\n",
    "        # for结点有三个孩子结点\n",
    "        elif self.token == 'For':\n",
    "            child_list = [children[c][1] for c in range(0, len(children)-1)]\n",
    "            #print(f'child_list: {child_list}')\n",
    "            return [ASTNode(children[c][1]) for c in range(0, len(children)-1)]\n",
    "        else:\n",
    "            child_list_else = [child for _, child in children ]\n",
    "            #print(f'child_list_else: {child_list_else}')\n",
    "            return [ASTNode(child) for _, child in children]\n",
    "\n",
    "    def children(self):\n",
    "        return self.children\n",
    "    #     if self.is_str:\n",
    "    #         return []\n",
    "    #     return [ASTNode(child) for _, child in self.node.children() if child.]\n",
    "\n",
    "\n",
    "class SingleNode(ASTNode):\n",
    "    def __init__(self, node):\n",
    "        self.node = node\n",
    "        #判断node是否是字符串\n",
    "        self.is_str = isinstance(self.node, str)\n",
    "        self.token = self.get_token()\n",
    "        self.children = []\n",
    "\n",
    "    def is_leaf(self):\n",
    "        if self.is_str:\n",
    "            return True\n",
    "        #print(f'len(self.node.children()): {len(self.node.children())}')\n",
    "        return len(self.node.children()) == 0\n",
    "\n",
    "    def get_token(self, lower=True):\n",
    "        if self.is_str:\n",
    "            print('is str! ')\n",
    "            return self.node\n",
    "        #得到当前结点(partial ast's root)的名字\n",
    "        name = self.node.__class__.__name__\n",
    "        #print(f'node name: {name}')\n",
    "        token = name\n",
    "        is_name = False\n",
    "        if self.is_leaf():\n",
    "           #print(f'遇到一个leaf结点，属性名为{self.node.attr_names}')\n",
    "            attr_names = self.node.attr_names\n",
    "           #print(f'leaf node attr_names: {attr_names}')\n",
    "            if attr_names:\n",
    "                if 'names' in attr_names:\n",
    "                    token = self.node.names[0]\n",
    "                   #print(f'有names属性, token: {self.node.names[0]}, names: {self.node.names}')\n",
    "                elif 'name' in attr_names:\n",
    "                    token = self.node.name\n",
    "                    #print(f'有name属性, token: {self.node.name}')\n",
    "                    is_name = True\n",
    "                else:\n",
    "                    token = self.node.value\n",
    "                    #print(f'无name属性, {self.node.value}')\n",
    "            else:\n",
    "                token = name\n",
    "        # 对于非叶子节点，分'TypeDecl'和其他类型结点\n",
    "        else:\n",
    "            if name == 'TypeDecl':\n",
    "                #print(f'遇到一个TypeDecl结点,其attr_names 为： {self.node.attr_names}, declname为: {self.node.declname}')\n",
    "                token = self.node.declname\n",
    "\n",
    "            if self.node.attr_names:\n",
    "                attr_names = self.node.attr_names\n",
    "                if 'op' in attr_names:\n",
    "                    #print(f'TypeDecl结点的 self.node.op: {self.node.op}')\n",
    "                    if self.node.op[0] == 'p':\n",
    "                        token = self.node.op[1:]\n",
    "                        #print(f'TypeDecl结点遇op，且P在self node op[0]中: {token}')\n",
    "                    else:\n",
    "                        token = self.node.op\n",
    "                        #print(f'TypeDecl结点遇op，且P不在在self node op[0]中: {token}')\n",
    "\n",
    "        if token is None:\n",
    "            token = name\n",
    "        if lower and is_name:\n",
    "            token = token.lower()\n",
    "        return token\n"
   ]
  },
  {
   "cell_type": "code",
   "execution_count": 9,
   "metadata": {},
   "outputs": [],
   "source": [
    "# node代表的就是传入的partial ast的root\n",
    "def get_blocks(node, block_seq):\n",
    "    print(node)\n",
    "    name = node.__class__.__name__\n",
    "    print(f'partial root name: {name}')\n",
    "\n",
    "    children = node.children()\n",
    "    print(f'partial root node children: {children}')\n",
    "\n",
    "    if name in ['FuncDef', 'If', 'For', 'While', 'DoWhile']:\n",
    "        block_seq.append(ASTNode(node))\n",
    "        print(f'{name} 直接添加在block: {[ b.token for b in block_seq]}')\n",
    "        # \n",
    "        if name is not 'For':\n",
    "            skip = 1\n",
    "        else:\n",
    "            skip = len(children) - 1\n",
    "        print(f'skip: {skip}, len of children: {len(children)}')\n",
    "        for i in range(skip, len(children)):\n",
    "            # for有三个或者四个孩子结点, 前三个是for(i=0;i<=5;i++)声明结点, 如果有第四个孩子结点, 说明for结点是嵌套结点, 第四个结点是compound\n",
    "            child = children[i][1]\n",
    "            print(f'partial root node child name: {child.__class__.__name__}')\n",
    "            if child.__class__.__name__ not in ['FuncDef', 'If', 'For', 'While', 'DoWhile', 'Compound']:    \n",
    "                block_seq.append(ASTNode(child))\n",
    "                print(f'child: {child.__class__.__name__} 直接添加在block: {{[ b.token for b in block_seq]}}')\n",
    "                \n",
    "            print(f'{child.__class__.__name__} 进入递归')\n",
    "            get_blocks(child, block_seq)\n",
    "    # 遇见{}\n",
    "    elif name is 'Compound':\n",
    "        block_seq.append(ASTNode(name))\n",
    "        for _, child in node.children():\n",
    "            # 如果孩子结点是一般的语句(只有一行),不用拆分\n",
    "            print(f'当前孩子结点: {child}')\n",
    "            if child.__class__.__name__ not in ['If', 'For', 'While', 'DoWhile']:\n",
    "                block_seq.append(ASTNode(child))\n",
    "                print(f'child: {child.__class__.__name__} 直接添加在block: {[ b.token for b in block_seq]}')\n",
    "            print(f'{child.__class__.__name__} 进入递归')\n",
    "            get_blocks(child, block_seq)\n",
    "        \n",
    "        block_seq.append(ASTNode('End'))\n",
    "    # 这一步主要是用来遍历单行语句的孩子结点, 判断是否有嵌套语句(如for、while结点)\n",
    "    # 所以没有block_seq.append(ASTNode(child))这句话, 因为单行语句的node不需要加入block\n",
    "    else:\n",
    "        for _, child in node.children():\n",
    "            print(f'{child.__class__.__name__} 进入递归')\n",
    "            get_blocks(child, block_seq)"
   ]
  },
  {
   "cell_type": "code",
   "execution_count": 4,
   "metadata": {},
   "outputs": [],
   "source": [
    "# generate block sequences with index representations\n",
    "from gensim.models.word2vec import Word2Vec\n",
    "embedding_size = 128\n",
    "def generate_block_seqs():\n",
    "    word2vec = Word2Vec.load(root+language+'/train/embedding_astnode_w2v_' + str(embedding_size)).wv\n",
    "    vocab = word2vec.vocab\n",
    "    max_token = word2vec.syn0.shape[0]\n",
    "    \n",
    "    # 这个递归函数用来干什么？\n",
    "    def tree_to_index(node):\n",
    "        token = node.token\n",
    "        result = [vocab[token].index if token in vocab else max_token]\n",
    "        children = node.children\n",
    "        for child in children:\n",
    "            #print(f'tree_to_index: a node''s child: {child.token}')\n",
    "            result.append(tree_to_index(child))\n",
    "        return result\n",
    "\n",
    "    def trans2seq(ast):\n",
    "        blocks = []\n",
    "        get_blocks(ast, blocks)\n",
    "        tree = []\n",
    "        for b in blocks:\n",
    "            btree = tree_to_index(b)\n",
    "            tree.append(btree)\n",
    "        return tree\n",
    "    # source_c_ast_DF就是id code(ast形式) label \n",
    "    source_2_seq_DF =  source_c_ast_DF.copy(False)\n",
    "    trees = source_2_seq_DF['code']\n",
    "    # 确认trees copy成功\n",
    "    #print(trees)\n",
    "    # trans2seq操作是在ast上进行的\n",
    "    # 把每一个ast转换成seq blocks\n",
    "    # print(trees['code'].iloc[1])\n",
    "    source_2_seq_DF['code'] = trees.apply(trans2seq)\n",
    "    if 'label' in source_2_seq_DF.columns:\n",
    "        source_2_seq_DF.drop('label', axis=1, inplace=True)\n",
    "    blocks = source_2_seq_DF\n"
   ]
  },
  {
   "cell_type": "code",
   "execution_count": null,
   "metadata": {},
   "outputs": [],
   "source": [
    "generate_block_seqs()"
   ]
  },
  {
   "cell_type": "code",
   "execution_count": 11,
   "metadata": {
    "tags": []
   },
   "outputs": [
    {
     "output_type": "stream",
     "name": "stdout",
     "text": [
      "<pycparser.c_ast.FileAST object at 0x000001D675C60A40>\npartial root name: FileAST\npartial root node children: (('ext[0]', <pycparser.c_ast.FuncDef object at 0x000001D675C72220>),)\nFuncDef 进入递归\n<pycparser.c_ast.FuncDef object at 0x000001D675C72220>\npartial root name: FuncDef\npartial root node children: (('decl', <pycparser.c_ast.Decl object at 0x000001D675C36580>), ('body', <pycparser.c_ast.Compound object at 0x000001D675C74680>))\nFuncDef 直接添加在block: ['FuncDef']\nskip: 1, len of children: 2\npartial root node child name: Compound\nCompound 进入递归\n<pycparser.c_ast.Compound object at 0x000001D675C74680>\npartial root name: Compound\npartial root node children: (('block_items[0]', <pycparser.c_ast.Decl object at 0x000001D675BC8F90>), ('block_items[1]', <pycparser.c_ast.Decl object at 0x000001D675C363C0>), ('block_items[2]', <pycparser.c_ast.Decl object at 0x000001D675C36270>), ('block_items[3]', <pycparser.c_ast.Decl object at 0x000001D675C362E0>), ('block_items[4]', <pycparser.c_ast.Decl object at 0x000001D675C36190>), ('block_items[5]', <pycparser.c_ast.Decl object at 0x000001D675C36200>), ('block_items[6]', <pycparser.c_ast.Decl object at 0x000001D675C36430>), ('block_items[7]', <pycparser.c_ast.Decl object at 0x000001D675C364A0>), ('block_items[8]', <pycparser.c_ast.FuncCall object at 0x000001D675C6AB00>), ('block_items[9]', <pycparser.c_ast.FuncCall object at 0x000001D675C6AD40>), ('block_items[10]', <pycparser.c_ast.FuncCall object at 0x000001D675C6AFC0>), ('block_items[11]', <pycparser.c_ast.Assignment object at 0x000001D675C5FA40>), ('block_items[12]', <pycparser.c_ast.For object at 0x000001D675C721D0>), ('block_items[13]', <pycparser.c_ast.FuncCall object at 0x000001D675C744C0>), ('block_items[14]', <pycparser.c_ast.Return object at 0x000001D675C74640>))\n当前孩子结点: <pycparser.c_ast.Decl object at 0x000001D675BC8F90>\nchild: Decl 直接添加在block: ['FuncDef', 'Compound', 'Decl']\nDecl 进入递归\n<pycparser.c_ast.Decl object at 0x000001D675BC8F90>\npartial root name: Decl\npartial root node children: (('type', <pycparser.c_ast.ArrayDecl object at 0x000001D675C5F680>),)\nArrayDecl 进入递归\n<pycparser.c_ast.ArrayDecl object at 0x000001D675C5F680>\npartial root name: ArrayDecl\npartial root node children: (('type', <pycparser.c_ast.TypeDecl object at 0x000001D675C5F6D0>), ('dim', <pycparser.c_ast.Constant object at 0x000001D675C60E40>))\nTypeDecl 进入递归\n<pycparser.c_ast.TypeDecl object at 0x000001D675C5F6D0>\npartial root name: TypeDecl\npartial root node children: (('type', <pycparser.c_ast.IdentifierType object at 0x000001D675C6A240>),)\nIdentifierType 进入递归\n<pycparser.c_ast.IdentifierType object at 0x000001D675C6A240>\npartial root name: IdentifierType\npartial root node children: ()\nConstant 进入递归\n<pycparser.c_ast.Constant object at 0x000001D675C60E40>\npartial root name: Constant\npartial root node children: ()\n当前孩子结点: <pycparser.c_ast.Decl object at 0x000001D675C363C0>\nchild: Decl 直接添加在block: ['FuncDef', 'Compound', 'Decl', 'Decl']\nDecl 进入递归\n<pycparser.c_ast.Decl object at 0x000001D675C363C0>\npartial root name: Decl\npartial root node children: (('type', <pycparser.c_ast.ArrayDecl object at 0x000001D66E731130>),)\nArrayDecl 进入递归\n<pycparser.c_ast.ArrayDecl object at 0x000001D66E731130>\npartial root name: ArrayDecl\npartial root node children: (('type', <pycparser.c_ast.TypeDecl object at 0x000001D675C5F770>), ('dim', <pycparser.c_ast.Constant object at 0x000001D675C6A040>))\nTypeDecl 进入递归\n<pycparser.c_ast.TypeDecl object at 0x000001D675C5F770>\npartial root name: TypeDecl\npartial root node children: (('type', <pycparser.c_ast.IdentifierType object at 0x000001D675C6A280>),)\nIdentifierType 进入递归\n<pycparser.c_ast.IdentifierType object at 0x000001D675C6A280>\npartial root name: IdentifierType\npartial root node children: ()\nConstant 进入递归\n<pycparser.c_ast.Constant object at 0x000001D675C6A040>\npartial root name: Constant\npartial root node children: ()\n当前孩子结点: <pycparser.c_ast.Decl object at 0x000001D675C36270>\nchild: Decl 直接添加在block: ['FuncDef', 'Compound', 'Decl', 'Decl', 'Decl']\nDecl 进入递归\n<pycparser.c_ast.Decl object at 0x000001D675C36270>\npartial root name: Decl\npartial root node children: (('type', <pycparser.c_ast.ArrayDecl object at 0x000001D675C5F720>),)\nArrayDecl 进入递归\n<pycparser.c_ast.ArrayDecl object at 0x000001D675C5F720>\npartial root name: ArrayDecl\npartial root node children: (('type', <pycparser.c_ast.TypeDecl object at 0x000001D675C5F810>), ('dim', <pycparser.c_ast.Constant object at 0x000001D675C6A1C0>))\nTypeDecl 进入递归\n<pycparser.c_ast.TypeDecl object at 0x000001D675C5F810>\npartial root name: TypeDecl\npartial root node children: (('type', <pycparser.c_ast.IdentifierType object at 0x000001D675C6A2C0>),)\nIdentifierType 进入递归\n<pycparser.c_ast.IdentifierType object at 0x000001D675C6A2C0>\npartial root name: IdentifierType\npartial root node children: ()\nConstant 进入递归\n<pycparser.c_ast.Constant object at 0x000001D675C6A1C0>\npartial root name: Constant\npartial root node children: ()\n当前孩子结点: <pycparser.c_ast.Decl object at 0x000001D675C362E0>\nchild: Decl 直接添加在block: ['FuncDef', 'Compound', 'Decl', 'Decl', 'Decl', 'Decl']\nDecl 进入递归\n<pycparser.c_ast.Decl object at 0x000001D675C362E0>\npartial root name: Decl\npartial root node children: (('type', <pycparser.c_ast.TypeDecl object at 0x000001D675C5F8B0>),)\nTypeDecl 进入递归\n<pycparser.c_ast.TypeDecl object at 0x000001D675C5F8B0>\npartial root name: TypeDecl\npartial root node children: (('type', <pycparser.c_ast.IdentifierType object at 0x000001D675C6A600>),)\nIdentifierType 进入递归\n<pycparser.c_ast.IdentifierType object at 0x000001D675C6A600>\npartial root name: IdentifierType\npartial root node children: ()\n当前孩子结点: <pycparser.c_ast.Decl object at 0x000001D675C36190>\nchild: Decl 直接添加在block: ['FuncDef', 'Compound', 'Decl', 'Decl', 'Decl', 'Decl', 'Decl']\nDecl 进入递归\n<pycparser.c_ast.Decl object at 0x000001D675C36190>\npartial root name: Decl\npartial root node children: (('type', <pycparser.c_ast.TypeDecl object at 0x000001D675C5F7C0>),)\nTypeDecl 进入递归\n<pycparser.c_ast.TypeDecl object at 0x000001D675C5F7C0>\npartial root name: TypeDecl\npartial root node children: (('type', <pycparser.c_ast.IdentifierType object at 0x000001D675C6A640>),)\nIdentifierType 进入递归\n<pycparser.c_ast.IdentifierType object at 0x000001D675C6A640>\npartial root name: IdentifierType\npartial root node children: ()\n当前孩子结点: <pycparser.c_ast.Decl object at 0x000001D675C36200>\nchild: Decl 直接添加在block: ['FuncDef', 'Compound', 'Decl', 'Decl', 'Decl', 'Decl', 'Decl', 'Decl']\nDecl 进入递归\n<pycparser.c_ast.Decl object at 0x000001D675C36200>\npartial root name: Decl\npartial root node children: (('type', <pycparser.c_ast.TypeDecl object at 0x000001D675C5F950>),)\nTypeDecl 进入递归\n<pycparser.c_ast.TypeDecl object at 0x000001D675C5F950>\npartial root name: TypeDecl\npartial root node children: (('type', <pycparser.c_ast.IdentifierType object at 0x000001D675C6A680>),)\nIdentifierType 进入递归\n<pycparser.c_ast.IdentifierType object at 0x000001D675C6A680>\npartial root name: IdentifierType\npartial root node children: ()\n当前孩子结点: <pycparser.c_ast.Decl object at 0x000001D675C36430>\nchild: Decl 直接添加在block: ['FuncDef', 'Compound', 'Decl', 'Decl', 'Decl', 'Decl', 'Decl', 'Decl', 'Decl']\nDecl 进入递归\n<pycparser.c_ast.Decl object at 0x000001D675C36430>\npartial root name: Decl\npartial root node children: (('type', <pycparser.c_ast.TypeDecl object at 0x000001D675C5F9A0>),)\nTypeDecl 进入递归\n<pycparser.c_ast.TypeDecl object at 0x000001D675C5F9A0>\npartial root name: TypeDecl\npartial root node children: (('type', <pycparser.c_ast.IdentifierType object at 0x000001D675C6A6C0>),)\nIdentifierType 进入递归\n<pycparser.c_ast.IdentifierType object at 0x000001D675C6A6C0>\npartial root name: IdentifierType\npartial root node children: ()\n当前孩子结点: <pycparser.c_ast.Decl object at 0x000001D675C364A0>\nchild: Decl 直接添加在block: ['FuncDef', 'Compound', 'Decl', 'Decl', 'Decl', 'Decl', 'Decl', 'Decl', 'Decl', 'Decl']\nDecl 进入递归\n<pycparser.c_ast.Decl object at 0x000001D675C364A0>\npartial root name: Decl\npartial root node children: (('type', <pycparser.c_ast.TypeDecl object at 0x000001D675C5F9F0>),)\nTypeDecl 进入递归\n<pycparser.c_ast.TypeDecl object at 0x000001D675C5F9F0>\npartial root name: TypeDecl\npartial root node children: (('type', <pycparser.c_ast.IdentifierType object at 0x000001D675C6A8C0>),)\nIdentifierType 进入递归\n<pycparser.c_ast.IdentifierType object at 0x000001D675C6A8C0>\npartial root name: IdentifierType\npartial root node children: ()\n当前孩子结点: <pycparser.c_ast.FuncCall object at 0x000001D675C6AB00>\nchild: FuncCall 直接添加在block: ['FuncDef', 'Compound', 'Decl', 'Decl', 'Decl', 'Decl', 'Decl', 'Decl', 'Decl', 'Decl', 'FuncCall']\nFuncCall 进入递归\n<pycparser.c_ast.FuncCall object at 0x000001D675C6AB00>\npartial root name: FuncCall\npartial root node children: (('name', <pycparser.c_ast.ID object at 0x000001D675C6A940>), ('args', <pycparser.c_ast.ExprList object at 0x000001D675C6AA40>))\nID 进入递归\n<pycparser.c_ast.ID object at 0x000001D675C6A940>\npartial root name: ID\npartial root node children: ()\nExprList 进入递归\n<pycparser.c_ast.ExprList object at 0x000001D675C6AA40>\npartial root name: ExprList\npartial root node children: (('exprs[0]', <pycparser.c_ast.Constant object at 0x000001D675C6AA00>), ('exprs[1]', <pycparser.c_ast.ID object at 0x000001D675C6AAC0>))\nConstant 进入递归\n<pycparser.c_ast.Constant object at 0x000001D675C6AA00>\npartial root name: Constant\npartial root node children: ()\nID 进入递归\n<pycparser.c_ast.ID object at 0x000001D675C6AAC0>\npartial root name: ID\npartial root node children: ()\n当前孩子结点: <pycparser.c_ast.FuncCall object at 0x000001D675C6AD40>\nchild: FuncCall 直接添加在block: ['FuncDef', 'Compound', 'Decl', 'Decl', 'Decl', 'Decl', 'Decl', 'Decl', 'Decl', 'Decl', 'FuncCall', 'FuncCall']\nFuncCall 进入递归\n<pycparser.c_ast.FuncCall object at 0x000001D675C6AD40>\npartial root name: FuncCall\npartial root node children: (('name', <pycparser.c_ast.ID object at 0x000001D675C6AC00>), ('args', <pycparser.c_ast.ExprList object at 0x000001D675C6AC80>))\nID 进入递归\n<pycparser.c_ast.ID object at 0x000001D675C6AC00>\npartial root name: ID\npartial root node children: ()\nExprList 进入递归\n<pycparser.c_ast.ExprList object at 0x000001D675C6AC80>\npartial root name: ExprList\npartial root node children: (('exprs[0]', <pycparser.c_ast.Constant object at 0x000001D675C6ABC0>), ('exprs[1]', <pycparser.c_ast.ID object at 0x000001D675C6AD00>))\nConstant 进入递归\n<pycparser.c_ast.Constant object at 0x000001D675C6ABC0>\npartial root name: Constant\npartial root node children: ()\nID 进入递归\n<pycparser.c_ast.ID object at 0x000001D675C6AD00>\npartial root name: ID\npartial root node children: ()\n当前孩子结点: <pycparser.c_ast.FuncCall object at 0x000001D675C6AFC0>\nchild: FuncCall 直接添加在block: ['FuncDef', 'Compound', 'Decl', 'Decl', 'Decl', 'Decl', 'Decl', 'Decl', 'Decl', 'Decl', 'FuncCall', 'FuncCall', 'FuncCall']\nFuncCall 进入递归\n<pycparser.c_ast.FuncCall object at 0x000001D675C6AFC0>\npartial root name: FuncCall\npartial root node children: (('name', <pycparser.c_ast.ID object at 0x000001D675C6AE00>), ('args', <pycparser.c_ast.ExprList object at 0x000001D675C6AF00>))\nID 进入递归\n<pycparser.c_ast.ID object at 0x000001D675C6AE00>\npartial root name: ID\npartial root node children: ()\nExprList 进入递归\n<pycparser.c_ast.ExprList object at 0x000001D675C6AF00>\npartial root name: ExprList\npartial root node children: (('exprs[0]', <pycparser.c_ast.Constant object at 0x000001D675C6AEC0>), ('exprs[1]', <pycparser.c_ast.ID object at 0x000001D675C6AF80>))\nConstant 进入递归\n<pycparser.c_ast.Constant object at 0x000001D675C6AEC0>\npartial root name: Constant\npartial root node children: ()\nID 进入递归\n<pycparser.c_ast.ID object at 0x000001D675C6AF80>\npartial root name: ID\npartial root node children: ()\n当前孩子结点: <pycparser.c_ast.Assignment object at 0x000001D675C5FA40>\nchild: Assignment 直接添加在block: ['FuncDef', 'Compound', 'Decl', 'Decl', 'Decl', 'Decl', 'Decl', 'Decl', 'Decl', 'Decl', 'FuncCall', 'FuncCall', 'FuncCall', '=']\nAssignment 进入递归\n<pycparser.c_ast.Assignment object at 0x000001D675C5FA40>\npartial root name: Assignment\npartial root node children: (('lvalue', <pycparser.c_ast.ID object at 0x000001D675C6C0C0>), ('rvalue', <pycparser.c_ast.FuncCall object at 0x000001D675C6C280>))\nID 进入递归\n<pycparser.c_ast.ID object at 0x000001D675C6C0C0>\npartial root name: ID\npartial root node children: ()\nFuncCall 进入递归\n<pycparser.c_ast.FuncCall object at 0x000001D675C6C280>\npartial root name: FuncCall\npartial root node children: (('name', <pycparser.c_ast.ID object at 0x000001D675C6C180>), ('args', <pycparser.c_ast.ExprList object at 0x000001D675C6C240>))\nID 进入递归\n<pycparser.c_ast.ID object at 0x000001D675C6C180>\npartial root name: ID\npartial root node children: ()\nExprList 进入递归\n<pycparser.c_ast.ExprList object at 0x000001D675C6C240>\npartial root name: ExprList\npartial root node children: (('exprs[0]', <pycparser.c_ast.ID object at 0x000001D675C6C200>),)\nID 进入递归\n<pycparser.c_ast.ID object at 0x000001D675C6C200>\npartial root name: ID\npartial root node children: ()\n当前孩子结点: <pycparser.c_ast.For object at 0x000001D675C721D0>\nFor 进入递归\n<pycparser.c_ast.For object at 0x000001D675C721D0>\npartial root name: For\npartial root node children: (('init', <pycparser.c_ast.Assignment object at 0x000001D675C5F900>), ('cond', <pycparser.c_ast.BinaryOp object at 0x000001D66E731F90>), ('next', <pycparser.c_ast.UnaryOp object at 0x000001D675C6C740>), ('stmt', <pycparser.c_ast.Compound object at 0x000001D675C74280>))\nFor 直接添加在block: ['FuncDef', 'Compound', 'Decl', 'Decl', 'Decl', 'Decl', 'Decl', 'Decl', 'Decl', 'Decl', 'FuncCall', 'FuncCall', 'FuncCall', '=', 'For']\nskip: 3, len of children: 4\npartial root node child name: Compound\nCompound 进入递归\n<pycparser.c_ast.Compound object at 0x000001D675C74280>\npartial root name: Compound\npartial root node children: (('block_items[0]', <pycparser.c_ast.If object at 0x000001D675C72130>),)\n当前孩子结点: <pycparser.c_ast.If object at 0x000001D675C72130>\nIf 进入递归\n<pycparser.c_ast.If object at 0x000001D675C72130>\npartial root name: If\npartial root node children: (('cond', <pycparser.c_ast.BinaryOp object at 0x000001D675C5FA90>), ('iftrue', <pycparser.c_ast.Compound object at 0x000001D675C741C0>))\nIf 直接添加在block: ['FuncDef', 'Compound', 'Decl', 'Decl', 'Decl', 'Decl', 'Decl', 'Decl', 'Decl', 'Decl', 'FuncCall', 'FuncCall', 'FuncCall', '=', 'For', 'Compound', 'If']\nskip: 1, len of children: 2\npartial root node child name: Compound\nCompound 进入递归\n<pycparser.c_ast.Compound object at 0x000001D675C741C0>\npartial root name: Compound\npartial root node children: (('block_items[0]', <pycparser.c_ast.Assignment object at 0x000001D675C5F860>), ('block_items[1]', <pycparser.c_ast.For object at 0x000001D675C5FE00>), ('block_items[2]', <pycparser.c_ast.If object at 0x000001D675C72090>))\n当前孩子结点: <pycparser.c_ast.Assignment object at 0x000001D675C5F860>\nchild: Assignment 直接添加在block: ['FuncDef', 'Compound', 'Decl', 'Decl', 'Decl', 'Decl', 'Decl', 'Decl', 'Decl', 'Decl', 'FuncCall', 'FuncCall', 'FuncCall', '=', 'For', 'Compound', 'If', 'Compound', '=']\nAssignment 进入递归\n<pycparser.c_ast.Assignment object at 0x000001D675C5F860>\npartial root name: Assignment\npartial root node children: (('lvalue', <pycparser.c_ast.ID object at 0x000001D675C6CB40>), ('rvalue', <pycparser.c_ast.Constant object at 0x000001D675C6CBC0>))\nID 进入递归\n<pycparser.c_ast.ID object at 0x000001D675C6CB40>\npartial root name: ID\npartial root node children: ()\nConstant 进入递归\n<pycparser.c_ast.Constant object at 0x000001D675C6CBC0>\npartial root name: Constant\npartial root node children: ()\n当前孩子结点: <pycparser.c_ast.For object at 0x000001D675C5FE00>\nFor 进入递归\n<pycparser.c_ast.For object at 0x000001D675C5FE00>\npartial root name: For\npartial root node children: (('init', <pycparser.c_ast.Assignment object at 0x000001D675C5FB30>), ('cond', <pycparser.c_ast.BinaryOp object at 0x000001D675C5FBD0>), ('next', <pycparser.c_ast.UnaryOp object at 0x000001D675C70280>), ('stmt', <pycparser.c_ast.Compound object at 0x000001D675C70980>))\nFor 直接添加在block: ['FuncDef', 'Compound', 'Decl', 'Decl', 'Decl', 'Decl', 'Decl', 'Decl', 'Decl', 'Decl', 'FuncCall', 'FuncCall', 'FuncCall', '=', 'For', 'Compound', 'If', 'Compound', '=', 'For']\nskip: 3, len of children: 4\npartial root node child name: Compound\nCompound 进入递归\n<pycparser.c_ast.Compound object at 0x000001D675C70980>\npartial root name: Compound\npartial root node children: (('block_items[0]', <pycparser.c_ast.If object at 0x000001D675C5FD60>),)\n当前孩子结点: <pycparser.c_ast.If object at 0x000001D675C5FD60>\nIf 进入递归\n<pycparser.c_ast.If object at 0x000001D675C5FD60>\npartial root name: If\npartial root node children: (('cond', <pycparser.c_ast.BinaryOp object at 0x000001D675C5FC70>), ('iftrue', <pycparser.c_ast.Assignment object at 0x000001D675C5FCC0>), ('iffalse', <pycparser.c_ast.Assignment object at 0x000001D675C5FD10>))\nIf 直接添加在block: ['FuncDef', 'Compound', 'Decl', 'Decl', 'Decl', 'Decl', 'Decl', 'Decl', 'Decl', 'Decl', 'FuncCall', 'FuncCall', 'FuncCall', '=', 'For', 'Compound', 'If', 'Compound', '=', 'For', 'Compound', 'If']\nskip: 1, len of children: 3\npartial root node child name: Assignment\nchild: Assignment 直接添加在block: {[ b.token for b in block_seq]}\nAssignment 进入递归\n<pycparser.c_ast.Assignment object at 0x000001D675C5FCC0>\npartial root name: Assignment\npartial root node children: (('lvalue', <pycparser.c_ast.ID object at 0x000001D675C708C0>), ('rvalue', <pycparser.c_ast.Constant object at 0x000001D675C70940>))\nID 进入递归\n<pycparser.c_ast.ID object at 0x000001D675C708C0>\npartial root name: ID\npartial root node children: ()\nConstant 进入递归\n<pycparser.c_ast.Constant object at 0x000001D675C70940>\npartial root name: Constant\npartial root node children: ()\npartial root node child name: Assignment\nchild: Assignment 直接添加在block: {[ b.token for b in block_seq]}\nAssignment 进入递归\n<pycparser.c_ast.Assignment object at 0x000001D675C5FD10>\npartial root name: Assignment\npartial root node children: (('lvalue', <pycparser.c_ast.ID object at 0x000001D675C70A40>), ('rvalue', <pycparser.c_ast.Constant object at 0x000001D675C70AC0>))\nID 进入递归\n<pycparser.c_ast.ID object at 0x000001D675C70A40>\npartial root name: ID\npartial root node children: ()\nConstant 进入递归\n<pycparser.c_ast.Constant object at 0x000001D675C70AC0>\npartial root name: Constant\npartial root node children: ()\n当前孩子结点: <pycparser.c_ast.If object at 0x000001D675C72090>\nIf 进入递归\n<pycparser.c_ast.If object at 0x000001D675C72090>\npartial root name: If\npartial root node children: (('cond', <pycparser.c_ast.BinaryOp object at 0x000001D675C5FDB0>), ('iftrue', <pycparser.c_ast.Compound object at 0x000001D675C74140>))\nIf 直接添加在block: ['FuncDef', 'Compound', 'Decl', 'Decl', 'Decl', 'Decl', 'Decl', 'Decl', 'Decl', 'Decl', 'FuncCall', 'FuncCall', 'FuncCall', '=', 'For', 'Compound', 'If', 'Compound', '=', 'For', 'Compound', 'If', '=', '=', 'End', 'If']\nskip: 1, len of children: 2\npartial root node child name: Compound\nCompound 进入递归\n<pycparser.c_ast.Compound object at 0x000001D675C74140>\npartial root name: Compound\npartial root node children: (('block_items[0]', <pycparser.c_ast.For object at 0x000001D675C5FF40>), ('block_items[1]', <pycparser.c_ast.FuncCall object at 0x000001D675C716C0>), ('block_items[2]', <pycparser.c_ast.For object at 0x000001D675C720E0>), ('block_items[3]', <pycparser.c_ast.Return object at 0x000001D675C74100>))\n当前孩子结点: <pycparser.c_ast.For object at 0x000001D675C5FF40>\nFor 进入递归\n<pycparser.c_ast.For object at 0x000001D675C5FF40>\npartial root name: For\npartial root node children: (('init', <pycparser.c_ast.Assignment object at 0x000001D675C5FE50>), ('cond', <pycparser.c_ast.BinaryOp object at 0x000001D675C5FEA0>), ('next', <pycparser.c_ast.UnaryOp object at 0x000001D675C710C0>), ('stmt', <pycparser.c_ast.FuncCall object at 0x000001D675C71440>))\nFor 直接添加在block: ['FuncDef', 'Compound', 'Decl', 'Decl', 'Decl', 'Decl', 'Decl', 'Decl', 'Decl', 'Decl', 'FuncCall', 'FuncCall', 'FuncCall', '=', 'For', 'Compound', 'If', 'Compound', '=', 'For', 'Compound', 'If', '=', '=', 'End', 'If', 'Compound', 'For']\nskip: 3, len of children: 4\npartial root node child name: FuncCall\nchild: FuncCall 直接添加在block: {[ b.token for b in block_seq]}\nFuncCall 进入递归\n<pycparser.c_ast.FuncCall object at 0x000001D675C71440>\npartial root name: FuncCall\npartial root node children: (('name', <pycparser.c_ast.ID object at 0x000001D675C71140>), ('args', <pycparser.c_ast.ExprList object at 0x000001D675C71240>))\nID 进入递归\n<pycparser.c_ast.ID object at 0x000001D675C71140>\npartial root name: ID\npartial root node children: ()\nExprList 进入递归\n<pycparser.c_ast.ExprList object at 0x000001D675C71240>\npartial root name: ExprList\npartial root node children: (('exprs[0]', <pycparser.c_ast.Constant object at 0x000001D675C71200>), ('exprs[1]', <pycparser.c_ast.ArrayRef object at 0x000001D675C71400>))\nConstant 进入递归\n<pycparser.c_ast.Constant object at 0x000001D675C71200>\npartial root name: Constant\npartial root node children: ()\nArrayRef 进入递归\n<pycparser.c_ast.ArrayRef object at 0x000001D675C71400>\npartial root name: ArrayRef\npartial root node children: (('name', <pycparser.c_ast.ID object at 0x000001D675C712C0>), ('subscript', <pycparser.c_ast.ID object at 0x000001D675C71380>))\nID 进入递归\n<pycparser.c_ast.ID object at 0x000001D675C712C0>\npartial root name: ID\npartial root node children: ()\nID 进入递归\n<pycparser.c_ast.ID object at 0x000001D675C71380>\npartial root name: ID\npartial root node children: ()\n当前孩子结点: <pycparser.c_ast.FuncCall object at 0x000001D675C716C0>\nchild: FuncCall 直接添加在block: ['FuncDef', 'Compound', 'Decl', 'Decl', 'Decl', 'Decl', 'Decl', 'Decl', 'Decl', 'Decl', 'FuncCall', 'FuncCall', 'FuncCall', '=', 'For', 'Compound', 'If', 'Compound', '=', 'For', 'Compound', 'If', '=', '=', 'End', 'If', 'Compound', 'For', 'FuncCall', 'FuncCall']\nFuncCall 进入递归\n<pycparser.c_ast.FuncCall object at 0x000001D675C716C0>\npartial root name: FuncCall\npartial root node children: (('name', <pycparser.c_ast.ID object at 0x000001D675C71500>), ('args', <pycparser.c_ast.ExprList object at 0x000001D675C71600>))\nID 进入递归\n<pycparser.c_ast.ID object at 0x000001D675C71500>\npartial root name: ID\npartial root node children: ()\nExprList 进入递归\n<pycparser.c_ast.ExprList object at 0x000001D675C71600>\npartial root name: ExprList\npartial root node children: (('exprs[0]', <pycparser.c_ast.Constant object at 0x000001D675C715C0>), ('exprs[1]', <pycparser.c_ast.ID object at 0x000001D675C71680>))\nConstant 进入递归\n<pycparser.c_ast.Constant object at 0x000001D675C715C0>\npartial root name: Constant\npartial root node children: ()\nID 进入递归\n<pycparser.c_ast.ID object at 0x000001D675C71680>\npartial root name: ID\npartial root node children: ()\n当前孩子结点: <pycparser.c_ast.For object at 0x000001D675C720E0>\nFor 进入递归\n<pycparser.c_ast.For object at 0x000001D675C720E0>\npartial root name: For\npartial root node children: (('init', <pycparser.c_ast.Assignment object at 0x000001D675C5FF90>), ('cond', <pycparser.c_ast.BinaryOp object at 0x000001D675C72040>), ('next', <pycparser.c_ast.UnaryOp object at 0x000001D675C71C40>), ('stmt', <pycparser.c_ast.FuncCall object at 0x000001D675C71F80>))\nFor 直接添加在block: ['FuncDef', 'Compound', 'Decl', 'Decl', 'Decl', 'Decl', 'Decl', 'Decl', 'Decl', 'Decl', 'FuncCall', 'FuncCall', 'FuncCall', '=', 'For', 'Compound', 'If', 'Compound', '=', 'For', 'Compound', 'If', '=', '=', 'End', 'If', 'Compound', 'For', 'FuncCall', 'FuncCall', 'For']\nskip: 3, len of children: 4\npartial root node child name: FuncCall\nchild: FuncCall 直接添加在block: {[ b.token for b in block_seq]}\nFuncCall 进入递归\n<pycparser.c_ast.FuncCall object at 0x000001D675C71F80>\npartial root name: FuncCall\npartial root node children: (('name', <pycparser.c_ast.ID object at 0x000001D675C71CC0>), ('args', <pycparser.c_ast.ExprList object at 0x000001D675C71DC0>))\nID 进入递归\n<pycparser.c_ast.ID object at 0x000001D675C71CC0>\npartial root name: ID\npartial root node children: ()\nExprList 进入递归\n<pycparser.c_ast.ExprList object at 0x000001D675C71DC0>\npartial root name: ExprList\npartial root node children: (('exprs[0]', <pycparser.c_ast.Constant object at 0x000001D675C71D80>), ('exprs[1]', <pycparser.c_ast.ArrayRef object at 0x000001D675C71F40>))\nConstant 进入递归\n<pycparser.c_ast.Constant object at 0x000001D675C71D80>\npartial root name: Constant\npartial root node children: ()\nArrayRef 进入递归\n<pycparser.c_ast.ArrayRef object at 0x000001D675C71F40>\npartial root name: ArrayRef\npartial root node children: (('name', <pycparser.c_ast.ID object at 0x000001D675C71E40>), ('subscript', <pycparser.c_ast.ID object at 0x000001D675C71EC0>))\nID 进入递归\n<pycparser.c_ast.ID object at 0x000001D675C71E40>\npartial root name: ID\npartial root node children: ()\nID 进入递归\n<pycparser.c_ast.ID object at 0x000001D675C71EC0>\npartial root name: ID\npartial root node children: ()\n当前孩子结点: <pycparser.c_ast.Return object at 0x000001D675C74100>\nchild: Return 直接添加在block: ['FuncDef', 'Compound', 'Decl', 'Decl', 'Decl', 'Decl', 'Decl', 'Decl', 'Decl', 'Decl', 'FuncCall', 'FuncCall', 'FuncCall', '=', 'For', 'Compound', 'If', 'Compound', '=', 'For', 'Compound', 'If', '=', '=', 'End', 'If', 'Compound', 'For', 'FuncCall', 'FuncCall', 'For', 'FuncCall', 'Return']\nReturn 进入递归\n<pycparser.c_ast.Return object at 0x000001D675C74100>\npartial root name: Return\npartial root node children: (('expr', <pycparser.c_ast.Constant object at 0x000001D675C74080>),)\nConstant 进入递归\n<pycparser.c_ast.Constant object at 0x000001D675C74080>\npartial root name: Constant\npartial root node children: ()\n当前孩子结点: <pycparser.c_ast.FuncCall object at 0x000001D675C744C0>\nchild: FuncCall 直接添加在block: ['FuncDef', 'Compound', 'Decl', 'Decl', 'Decl', 'Decl', 'Decl', 'Decl', 'Decl', 'Decl', 'FuncCall', 'FuncCall', 'FuncCall', '=', 'For', 'Compound', 'If', 'Compound', '=', 'For', 'Compound', 'If', '=', '=', 'End', 'If', 'Compound', 'For', 'FuncCall', 'FuncCall', 'For', 'FuncCall', 'Return', 'End', 'End', 'End', 'FuncCall']\nFuncCall 进入递归\n<pycparser.c_ast.FuncCall object at 0x000001D675C744C0>\npartial root name: FuncCall\npartial root node children: (('name', <pycparser.c_ast.ID object at 0x000001D675C74300>), ('args', <pycparser.c_ast.ExprList object at 0x000001D675C74400>))\nID 进入递归\n<pycparser.c_ast.ID object at 0x000001D675C74300>\npartial root name: ID\npartial root node children: ()\nExprList 进入递归\n<pycparser.c_ast.ExprList object at 0x000001D675C74400>\npartial root name: ExprList\npartial root node children: (('exprs[0]', <pycparser.c_ast.Constant object at 0x000001D675C743C0>), ('exprs[1]', <pycparser.c_ast.ID object at 0x000001D675C74480>))\nConstant 进入递归\n<pycparser.c_ast.Constant object at 0x000001D675C743C0>\npartial root name: Constant\npartial root node children: ()\nID 进入递归\n<pycparser.c_ast.ID object at 0x000001D675C74480>\npartial root name: ID\npartial root node children: ()\n当前孩子结点: <pycparser.c_ast.Return object at 0x000001D675C74640>\nchild: Return 直接添加在block: ['FuncDef', 'Compound', 'Decl', 'Decl', 'Decl', 'Decl', 'Decl', 'Decl', 'Decl', 'Decl', 'FuncCall', 'FuncCall', 'FuncCall', '=', 'For', 'Compound', 'If', 'Compound', '=', 'For', 'Compound', 'If', '=', '=', 'End', 'If', 'Compound', 'For', 'FuncCall', 'FuncCall', 'For', 'FuncCall', 'Return', 'End', 'End', 'End', 'FuncCall', 'Return']\nReturn 进入递归\n<pycparser.c_ast.Return object at 0x000001D675C74640>\npartial root name: Return\npartial root node children: (('expr', <pycparser.c_ast.Constant object at 0x000001D675C745C0>),)\nConstant 进入递归\n<pycparser.c_ast.Constant object at 0x000001D675C745C0>\npartial root name: Constant\npartial root node children: ()\n"
     ]
    }
   ],
   "source": [
    "#generate_block_seqs()\n",
    "blocks = []\n",
    "get_blocks(ast_for_block,blocks)\n",
    "#print(blocks)\n"
   ]
  },
  {
   "cell_type": "code",
   "execution_count": 12,
   "metadata": {},
   "outputs": [
    {
     "output_type": "stream",
     "name": "stdout",
     "text": [
      "FuncDef\ntree_to_index: a node  child: Decl\ntree_to_index: a node  child: FuncDecl\ntree_to_index: a node  child: main\ntree_to_index: a node  child: int\n[30, [1, [29, [40, [2]]]]]\nCompound\n[6]\nDecl\ntree_to_index: a node  child: ArrayDecl\ntree_to_index: a node  child: s\ntree_to_index: a node  child: char\ntree_to_index: a node  child: 256\n[1, [21, [34, [50]], [138]]]\nDecl\ntree_to_index: a node  child: ArrayDecl\ntree_to_index: a node  child: a\ntree_to_index: a node  child: char\ntree_to_index: a node  child: 256\n[1, [21, [12, [50]], [138]]]\nDecl\ntree_to_index: a node  child: ArrayDecl\ntree_to_index: a node  child: b\ntree_to_index: a node  child: char\ntree_to_index: a node  child: 256\n[1, [21, [24, [50]], [138]]]\nDecl\ntree_to_index: a node  child: l1\ntree_to_index: a node  child: int\n[1, [163, [2]]]\nDecl\ntree_to_index: a node  child: i\ntree_to_index: a node  child: int\n[1, [0, [2]]]\nDecl\ntree_to_index: a node  child: j\ntree_to_index: a node  child: int\n[1, [8, [2]]]\nDecl\ntree_to_index: a node  child: n\ntree_to_index: a node  child: int\n[1, [13, [2]]]\nDecl\ntree_to_index: a node  child: flag\ntree_to_index: a node  child: int\n[1, [118, [2]]]\nFuncCall\ntree_to_index: a node  child: scanf\ntree_to_index: a node  child: ExprList\ntree_to_index: a node  child: \"%s\"\ntree_to_index: a node  child: s\n[9, [28], [10, [105], [34]]]\nFuncCall\ntree_to_index: a node  child: scanf\ntree_to_index: a node  child: ExprList\ntree_to_index: a node  child: \"%s\"\ntree_to_index: a node  child: a\n[9, [28], [10, [105], [12]]]\nFuncCall\ntree_to_index: a node  child: scanf\ntree_to_index: a node  child: ExprList\ntree_to_index: a node  child: \"%s\"\ntree_to_index: a node  child: b\n[9, [28], [10, [105], [24]]]\n=\ntree_to_index: a node  child: l1\ntree_to_index: a node  child: FuncCall\ntree_to_index: a node  child: strlen\ntree_to_index: a node  child: ExprList\ntree_to_index: a node  child: a\n[4, [163], [9, [72], [10, [12]]]]\nFor\ntree_to_index: a node  child: =\ntree_to_index: a node  child: i\ntree_to_index: a node  child: 0\ntree_to_index: a node  child: !=\ntree_to_index: a node  child: ArrayRef\ntree_to_index: a node  child: s\ntree_to_index: a node  child: i\ntree_to_index: a node  child: '\u0000'\ntree_to_index: a node  child: ++\ntree_to_index: a node  child: i\n[15, [4, [0], [5]], [36, [3, [34], [0]], [2015]], [11, [0]]]\nCompound\n[6]\nIf\ntree_to_index: a node  child: ==\ntree_to_index: a node  child: ArrayRef\ntree_to_index: a node  child: s\ntree_to_index: a node  child: i\ntree_to_index: a node  child: ArrayRef\ntree_to_index: a node  child: a\ntree_to_index: a node  child: 0\n[18, [22, [3, [34], [0]], [3, [12], [5]]]]\nCompound\n[6]\n=\ntree_to_index: a node  child: flag\ntree_to_index: a node  child: 1\n[4, [118], [14]]\nFor\ntree_to_index: a node  child: =\ntree_to_index: a node  child: j\ntree_to_index: a node  child: +\ntree_to_index: a node  child: i\ntree_to_index: a node  child: 1\ntree_to_index: a node  child: <\ntree_to_index: a node  child: j\ntree_to_index: a node  child: +\ntree_to_index: a node  child: i\ntree_to_index: a node  child: l1\ntree_to_index: a node  child: ++\ntree_to_index: a node  child: j\n[15, [4, [8], [16, [0], [14]]], [17, [8], [16, [0], [163]]], [11, [8]]]\nCompound\n[6]\nIf\ntree_to_index: a node  child: !=\ntree_to_index: a node  child: ArrayRef\ntree_to_index: a node  child: s\ntree_to_index: a node  child: j\ntree_to_index: a node  child: ArrayRef\ntree_to_index: a node  child: a\ntree_to_index: a node  child: -\ntree_to_index: a node  child: j\ntree_to_index: a node  child: i\n[18, [36, [3, [34], [8]], [3, [12], [23, [8], [0]]]]]\n=\ntree_to_index: a node  child: flag\ntree_to_index: a node  child: 0\n[4, [118], [5]]\n=\ntree_to_index: a node  child: flag\ntree_to_index: a node  child: 1\n[4, [118], [14]]\nEnd\n[7]\nIf\ntree_to_index: a node  child: ==\ntree_to_index: a node  child: flag\ntree_to_index: a node  child: 1\n[18, [22, [118], [14]]]\nCompound\n[6]\nFor\ntree_to_index: a node  child: =\ntree_to_index: a node  child: n\ntree_to_index: a node  child: 0\ntree_to_index: a node  child: <\ntree_to_index: a node  child: n\ntree_to_index: a node  child: i\ntree_to_index: a node  child: ++\ntree_to_index: a node  child: n\n[15, [4, [13], [5]], [17, [13], [0]], [11, [13]]]\nFuncCall\ntree_to_index: a node  child: printf\ntree_to_index: a node  child: ExprList\ntree_to_index: a node  child: \"%c\"\ntree_to_index: a node  child: ArrayRef\ntree_to_index: a node  child: s\ntree_to_index: a node  child: n\n[9, [27], [10, [160], [3, [34], [13]]]]\nFuncCall\ntree_to_index: a node  child: printf\ntree_to_index: a node  child: ExprList\ntree_to_index: a node  child: \"%s\"\ntree_to_index: a node  child: b\n[9, [27], [10, [105], [24]]]\nFor\ntree_to_index: a node  child: =\ntree_to_index: a node  child: n\ntree_to_index: a node  child: +\ntree_to_index: a node  child: i\ntree_to_index: a node  child: l1\ntree_to_index: a node  child: !=\ntree_to_index: a node  child: ArrayRef\ntree_to_index: a node  child: s\ntree_to_index: a node  child: n\ntree_to_index: a node  child: '\u0000'\ntree_to_index: a node  child: ++\ntree_to_index: a node  child: n\n[15, [4, [13], [16, [0], [163]]], [36, [3, [34], [13]], [2015]], [11, [13]]]\nFuncCall\ntree_to_index: a node  child: printf\ntree_to_index: a node  child: ExprList\ntree_to_index: a node  child: \"%c\"\ntree_to_index: a node  child: ArrayRef\ntree_to_index: a node  child: s\ntree_to_index: a node  child: n\n[9, [27], [10, [160], [3, [34], [13]]]]\nReturn\ntree_to_index: a node  child: 0\n[35, [5]]\nEnd\n[7]\nEnd\n[7]\nEnd\n[7]\nFuncCall\ntree_to_index: a node  child: printf\ntree_to_index: a node  child: ExprList\ntree_to_index: a node  child: \"%s\"\ntree_to_index: a node  child: s\n[9, [27], [10, [105], [34]]]\nReturn\ntree_to_index: a node  child: 0\n[35, [5]]\nEnd\n[7]\n[[30, [1, [29, [40, [2]]]]], [6], [1, [21, [34, [50]], [138]]], [1, [21, [12, [50]], [138]]], [1, [21, [24, [50]], [138]]], [1, [163, [2]]], [1, [0, [2]]], [1, [8, [2]]], [1, [13, [2]]], [1, [118, [2]]], [9, [28], [10, [105], [34]]], [9, [28], [10, [105], [12]]], [9, [28], [10, [105], [24]]], [4, [163], [9, [72], [10, [12]]]], [15, [4, [0], [5]], [36, [3, [34], [0]], [2015]], [11, [0]]], [6], [18, [22, [3, [34], [0]], [3, [12], [5]]]], [6], [4, [118], [14]], [15, [4, [8], [16, [0], [14]]], [17, [8], [16, [0], [163]]], [11, [8]]], [6], [18, [36, [3, [34], [8]], [3, [12], [23, [8], [0]]]]], [4, [118], [5]], [4, [118], [14]], [7], [18, [22, [118], [14]]], [6], [15, [4, [13], [5]], [17, [13], [0]], [11, [13]]], [9, [27], [10, [160], [3, [34], [13]]]], [9, [27], [10, [105], [24]]], [15, [4, [13], [16, [0], [163]]], [36, [3, [34], [13]], [2015]], [11, [13]]], [9, [27], [10, [160], [3, [34], [13]]]], [35, [5]], [7], [7], [7], [9, [27], [10, [105], [34]]], [35, [5]], [7]]\n"
     ]
    }
   ],
   "source": [
    "from gensim.models.word2vec import Word2Vec\n",
    "embedding_size = 128\n",
    "root='data/'\n",
    "language = 'c'\n",
    "word2vec = Word2Vec.load(root+language+'/train/embedding_astnode_w2v_' + str(embedding_size)).wv\n",
    "vocab = word2vec.vocab\n",
    "max_token = word2vec.syn0.shape[0]\n",
    "\n",
    "def tree_to_index(node):\n",
    "    token = node.token\n",
    "    result = [vocab[token].index if token in vocab else max_token]\n",
    "    children = node.children\n",
    "    for child in children:\n",
    "        print(f'tree_to_index: a node  child: {child.token}')\n",
    "        result.append(tree_to_index(child))\n",
    "    return result\n",
    "tree = []\n",
    "for b in blocks:\n",
    "    print(b.token)\n",
    "    btree = tree_to_index(b)\n",
    "    print(btree)\n",
    "    tree.append(btree)\n",
    "print(tree)"
   ]
  },
  {
   "cell_type": "code",
   "execution_count": null,
   "metadata": {},
   "outputs": [],
   "source": [
    "lens = [len(item) for item in tree]\n",
    "        max_len = max(lens)"
   ]
  },
  {
   "cell_type": "code",
   "execution_count": 13,
   "metadata": {},
   "outputs": [
    {
     "output_type": "stream",
     "name": "stdout",
     "text": [
      "FuncDef\n['Decl']\nCompound\n[]\nDecl\n['ArrayDecl']\nDecl\n['ArrayDecl']\nDecl\n['ArrayDecl']\nDecl\n['l1']\nDecl\n['i']\nDecl\n['j']\nDecl\n['n']\nDecl\n['flag']\nFuncCall\n['scanf', 'ExprList']\nFuncCall\n['scanf', 'ExprList']\nFuncCall\n['scanf', 'ExprList']\n=\n['l1', 'FuncCall']\nFor\n['=', '!=', '++']\nCompound\n[]\nIf\n['==']\nCompound\n[]\n=\n['flag', '1']\nFor\n['=', '<', '++']\nCompound\n[]\nIf\n['!=']\n=\n['flag', '0']\n=\n['flag', '1']\nEnd\n[]\nIf\n['==']\nCompound\n[]\nFor\n['=', '<', '++']\nFuncCall\n['printf', 'ExprList']\nFuncCall\n['printf', 'ExprList']\nFor\n['=', '!=', '++']\nFuncCall\n['printf', 'ExprList']\nReturn\n['0']\nEnd\n[]\nEnd\n[]\nEnd\n[]\nFuncCall\n['printf', 'ExprList']\nReturn\n['0']\nEnd\n[]\n"
     ]
    }
   ],
   "source": [
    "for b in blocks:\n",
    "    print(b.token)\n",
    "    children = b.children\n",
    "    child_list = [c.token for c in children]\n",
    "    print(child_list)"
   ]
  },
  {
   "cell_type": "code",
   "execution_count": 5,
   "metadata": {},
   "outputs": [],
   "source": [
    "code = '''int main()\n",
    "{\n",
    "\tchar s[256],a[256],b[256];\n",
    "\tint l1,i,j,n;\n",
    "\tint flag;\n",
    "\tscanf(\"%s\",s);\n",
    "\tscanf(\"%s\",a);\n",
    "\tscanf(\"%s\",b);\n",
    "\tl1=strlen(a);\n",
    "\tfor(i=0;s[i]!='\\0';i++)\n",
    "\t{\n",
    "\t\tif(s[i]==a[0])\n",
    "\t\t{\n",
    "\t\t\tflag=1;\n",
    "\t\t\tfor(j=i+1;j<(i+l1);j++)\n",
    "\t\t\t{\n",
    "\t\t\t\tif (s[j]!=a[j-i])\n",
    "\t\t\t\t\tflag=0;\n",
    "\t\t\t\telse \n",
    "\t\t\t\t    flag=1;\n",
    "\t\t\t}\n",
    "\t\t\tif(flag==1)\n",
    "\t\t\t{\n",
    "\t\t\t\tfor(n=0;n<i;n++)\n",
    "\t\t\t\t\tprintf(\"%c\",s[n]);\n",
    "\t\t\t\tprintf(\"%s\",b);\n",
    "\t\t\t\tfor(n=i+l1;s[n]!='\\0';n++)\n",
    "\t\t\t\t\tprintf(\"%c\",s[n]);\n",
    "\t\t\t\treturn 0;\n",
    "\t\t\t}\n",
    "\t\t}\n",
    "\t}\n",
    "\tprintf(\"%s\",s);\n",
    "\treturn 0;\n",
    "}\n",
    "'''\n",
    "#print(code)"
   ]
  },
  {
   "cell_type": "code",
   "execution_count": 6,
   "metadata": {},
   "outputs": [
    {
     "output_type": "stream",
     "name": "stdout",
     "text": [
      "<pycparser.c_ast.FileAST object at 0x000001D675C60A40>\n"
     ]
    }
   ],
   "source": [
    "from pycparser import c_parser\n",
    "\n",
    "import pandas as pd\n",
    "\n",
    "parser = c_parser.CParser()\n",
    "\n",
    "ast_for_block = parser.parse(code)\n",
    "print(ast_for_block)"
   ]
  },
  {
   "cell_type": "code",
   "execution_count": 28,
   "metadata": {},
   "outputs": [
    {
     "output_type": "execute_result",
     "data": {
      "text/plain": [
       "          id                                               code  label\n",
       "0          0  <pycparser.c_ast.FileAST object at 0x000001AAA...     97\n",
       "1          1  <pycparser.c_ast.FileAST object at 0x000001AAA...     97\n",
       "2          2  <pycparser.c_ast.FileAST object at 0x000001AAA...     97\n",
       "3          3  <pycparser.c_ast.FileAST object at 0x000001AAA...     97\n",
       "4          4  <pycparser.c_ast.FileAST object at 0x000001AAA...     97\n",
       "...      ...                                                ...    ...\n",
       "51996  51996  <pycparser.c_ast.FileAST object at 0x000001AC2...     72\n",
       "51997  51997  <pycparser.c_ast.FileAST object at 0x000001AC2...     72\n",
       "51998  51998  <pycparser.c_ast.FileAST object at 0x000001AC2...     72\n",
       "51999  51999  <pycparser.c_ast.FileAST object at 0x000001AC2...     72\n",
       "52000  52000  <pycparser.c_ast.FileAST object at 0x000001AC2...     72\n",
       "\n",
       "[52001 rows x 3 columns]"
      ],
      "text/html": "<div>\n<style scoped>\n    .dataframe tbody tr th:only-of-type {\n        vertical-align: middle;\n    }\n\n    .dataframe tbody tr th {\n        vertical-align: top;\n    }\n\n    .dataframe thead th {\n        text-align: right;\n    }\n</style>\n<table border=\"1\" class=\"dataframe\">\n  <thead>\n    <tr style=\"text-align: right;\">\n      <th></th>\n      <th>id</th>\n      <th>code</th>\n      <th>label</th>\n    </tr>\n  </thead>\n  <tbody>\n    <tr>\n      <th>0</th>\n      <td>0</td>\n      <td>&lt;pycparser.c_ast.FileAST object at 0x000001AAA...</td>\n      <td>97</td>\n    </tr>\n    <tr>\n      <th>1</th>\n      <td>1</td>\n      <td>&lt;pycparser.c_ast.FileAST object at 0x000001AAA...</td>\n      <td>97</td>\n    </tr>\n    <tr>\n      <th>2</th>\n      <td>2</td>\n      <td>&lt;pycparser.c_ast.FileAST object at 0x000001AAA...</td>\n      <td>97</td>\n    </tr>\n    <tr>\n      <th>3</th>\n      <td>3</td>\n      <td>&lt;pycparser.c_ast.FileAST object at 0x000001AAA...</td>\n      <td>97</td>\n    </tr>\n    <tr>\n      <th>4</th>\n      <td>4</td>\n      <td>&lt;pycparser.c_ast.FileAST object at 0x000001AAA...</td>\n      <td>97</td>\n    </tr>\n    <tr>\n      <th>...</th>\n      <td>...</td>\n      <td>...</td>\n      <td>...</td>\n    </tr>\n    <tr>\n      <th>51996</th>\n      <td>51996</td>\n      <td>&lt;pycparser.c_ast.FileAST object at 0x000001AC2...</td>\n      <td>72</td>\n    </tr>\n    <tr>\n      <th>51997</th>\n      <td>51997</td>\n      <td>&lt;pycparser.c_ast.FileAST object at 0x000001AC2...</td>\n      <td>72</td>\n    </tr>\n    <tr>\n      <th>51998</th>\n      <td>51998</td>\n      <td>&lt;pycparser.c_ast.FileAST object at 0x000001AC2...</td>\n      <td>72</td>\n    </tr>\n    <tr>\n      <th>51999</th>\n      <td>51999</td>\n      <td>&lt;pycparser.c_ast.FileAST object at 0x000001AC2...</td>\n      <td>72</td>\n    </tr>\n    <tr>\n      <th>52000</th>\n      <td>52000</td>\n      <td>&lt;pycparser.c_ast.FileAST object at 0x000001AC2...</td>\n      <td>72</td>\n    </tr>\n  </tbody>\n</table>\n<p>52001 rows × 3 columns</p>\n</div>"
     },
     "metadata": {},
     "execution_count": 28
    }
   ],
   "source": [
    "source_c_ast_DF"
   ]
  },
  {
   "cell_type": "code",
   "execution_count": null,
   "metadata": {},
   "outputs": [],
   "source": []
  }
 ]
}