{
 "metadata": {
  "language_info": {
   "codemirror_mode": {
    "name": "ipython",
    "version": 3
   },
   "file_extension": ".py",
   "mimetype": "text/x-python",
   "name": "python",
   "nbconvert_exporter": "python",
   "pygments_lexer": "ipython3",
   "version": "3.8.6-final"
  },
  "orig_nbformat": 2,
  "kernelspec": {
   "name": "python3",
   "display_name": "Python 3"
  }
 },
 "nbformat": 4,
 "nbformat_minor": 2,
 "cells": [
  {
   "cell_type": "code",
   "execution_count": 3,
   "metadata": {},
   "outputs": [],
   "source": [
    "import pickle\n",
    "import pandas as pd\n",
    "import sys\n",
    "\n",
    "from gensim.models.word2vec import Word2Vec\n",
    "\n",
    "sys.path.append('..')\n",
    "\n",
    "from tree import ASTNode, SingleNode \n",
    "from prepare_data import get_blocks"
   ]
  },
  {
   "cell_type": "code",
   "execution_count": null,
   "metadata": {},
   "outputs": [],
   "source": [
    "def read_ast(language):\n",
    "  root = 'data/'\n",
    "  source = pd.read_pickle(root+language+'/ast.pkl')\n",
    "  print(len(source['code']))\n",
    "  return source"
   ]
  },
  {
   "cell_type": "code",
   "execution_count": null,
   "metadata": {},
   "outputs": [],
   "source": [
    "language = 'c'\n",
    "source_c_ast_DF = read_ast(language)"
   ]
  },
  {
   "source": [
    "### 读取训练集"
   ],
   "cell_type": "markdown",
   "metadata": {}
  },
  {
   "cell_type": "code",
   "execution_count": null,
   "metadata": {},
   "outputs": [],
   "source": [
    "root = 'data/'\n",
    "language = 'c'\n",
    "train_file_path = root + language + '/train/train.pkl'\n",
    "pairs = pd.read_pickle(train_file_path)\n",
    "# 找到训练集所包含的所有的source code id\n",
    "train_ids = pairs['id1'].append(pairs['id2']).unique()"
   ]
  },
  {
   "source": [
    "### 载入训练好的词典"
   ],
   "cell_type": "markdown",
   "metadata": {}
  },
  {
   "cell_type": "code",
   "execution_count": null,
   "metadata": {},
   "outputs": [],
   "source": [
    "embedding_size = 128\n",
    "word2vec = Word2Vec.load(root+language+'/train/embedding_astnode_w2v_' + str(embedding_size)).wv\n",
    "vocab = word2vec.vocab\n",
    "max_token = word2vec.syn0.shape[0]"
   ]
  },
  {
   "cell_type": "code",
   "execution_count": null,
   "metadata": {},
   "outputs": [],
   "source": [
    "def tree_to_index(node):\n",
    "    token = node.token\n",
    "    result = [vocab[token].index if token in vocab else max_token]\n",
    "    children = node.children\n",
    "    for child in children:\n",
    "        #print(f'tree_to_index: a node''s child: {child.token}')\n",
    "        result.append(tree_to_index(child))\n",
    "    return result"
   ]
  },
  {
   "cell_type": "code",
   "execution_count": null,
   "metadata": {},
   "outputs": [],
   "source": [
    "def trans2seq(ast):\n",
    "    blocks = []\n",
    "    # 获得语句树的集合\n",
    "    get_blocks(ast, blocks)\n",
    "    tree = []\n",
    "\n",
    "    # 对每一个语句树的节点表示进行word2vec转换\n",
    "    for b in blocks:\n",
    "        # btree每一个语句树的word2vec表示\n",
    "        btree = tree_to_index(b)\n",
    "        tree.append(btree)\n",
    "    return tree"
   ]
  },
  {
   "cell_type": "code",
   "execution_count": null,
   "metadata": {},
   "outputs": [],
   "source": [
    "source_2_seq_DF =  source_c_ast_DF.copy(False)\n",
    "trees = source_2_seq_DF['code']\n",
    "source_2_seq_DF['code'] = trees.apply(trans2seq)\n",
    "if 'label' in source_2_seq_DF.columns:\n",
    "        source_2_seq_DF.drop('label', axis=1, inplace=True)\n",
    "blocks = source_2_seq_DF"
   ]
  }
 ]
}